{
 "cells": [
  {
   "cell_type": "markdown",
   "metadata": {},
   "source": [
    "## AI Workflow – Traditional vs. Structured Approach\n",
    "\n",
    "### What This Notebook Covers\n",
    "- **Manually setting up AI agents** (Traditional Approach)\n",
    "- **Using a structured AI runtime** for automation (KitchenAI Approach)\n",
    "- **Key benefits of structured AI workflows**\n"
   ]
  },
  {
   "cell_type": "code",
   "execution_count": null,
   "metadata": {},
   "outputs": [],
   "source": [
    "%pip install whisk llama-index toolhouse kitchenai-whisk"
   ]
  },
  {
   "cell_type": "code",
   "execution_count": 21,
   "metadata": {},
   "outputs": [],
   "source": [
    "import os\n",
    "import logging\n",
    "import asyncio\n",
    "from whisk.client import WhiskClient\n",
    "from llama_index.llms.groq import Groq\n",
    "from llama_index.core.agent import ReActAgent\n",
    "from llama_index.core.memory import ChatMemoryBuffer\n",
    "from toolhouse import Toolhouse, Provider\n",
    "from whisk.kitchenai_sdk.kitchenai import KitchenAIApp\n",
    "from whisk.kitchenai_sdk.schema import (\n",
    "    WhiskQuerySchema,\n",
    "    WhiskQueryBaseResponseSchema,\n",
    ")\n",
    "from whisk.kitchenai_sdk.nats_schema import QueryRequestMessage\n",
    "import uuid\n",
    "import time\n",
    "\n",
    "os.environ[\"TOOLHOUSE_API_KEY\"] = \"your-toolhouse-key\"\n",
    "os.environ[\"GROQ_API_KEY\"] = \"your-groq-key\""
   ]
  },
  {
   "cell_type": "code",
   "execution_count": 25,
   "metadata": {},
   "outputs": [],
   "source": [
    "\n",
    "# Initialize logging\n",
    "logger = logging.getLogger(__name__)\n",
    "\n",
    "# Initialize LLM\n",
    "llm = Groq(model=\"llama-3.2-11b-vision-preview\")\n",
    "\n",
    "# Initialize Toolhouse Instances for Different Tasks\n",
    "scraper_toolhouse = Toolhouse(provider=Provider.LLAMAINDEX)\n",
    "web_search_toolhouse = Toolhouse(provider=Provider.LLAMAINDEX)\n",
    "\n",
    ";4\n",
    "# Set metadata (Optional)\n",
    "scraper_toolhouse.set_metadata(\"id\", \"scraper\")\n",
    "web_search_toolhouse.set_metadata(\"id\", \"web_search\")\n",
    "\n",
    "\n",
    "# ✅ **Initialize KitchenAI App**\n",
    "kitchen = KitchenAIApp(namespace=\"AI-Toolkit-Demo-2\")"
   ]
  },
  {
   "cell_type": "code",
   "execution_count": null,
   "metadata": {},
   "outputs": [],
   "source": [
    "agent = ReActAgent(\n",
    "    tools=web_search_toolhouse.get_tools(bundle=\"web_search\"),\n",
    "    llm=llm,\n",
    "    memory=ChatMemoryBuffer.from_defaults(),\n",
    ")\n",
    "response = await agent.achat(data.query)\n"
   ]
  },
  {
   "cell_type": "markdown",
   "metadata": {},
   "source": [
    "Explanation:\n",
    "\n",
    "We manually create a web search agent.\n",
    "We attach the tool (web_search).\n",
    "We call the LLM manually (achat()).\n",
    "This works, but we have to repeat the setup for every agent."
   ]
  },
  {
   "cell_type": "code",
   "execution_count": null,
   "metadata": {},
   "outputs": [],
   "source": [
    "    agent = ReActAgent(\n",
    "        tools=web_search_toolhouse.get_tools(bundle=\"scraper\"),\n",
    "        llm=llm,\n",
    "        memory=ChatMemoryBuffer.from_defaults(),\n",
    "    )\n",
    "    response = await agent.achat(data.query)"
   ]
  },
  {
   "cell_type": "markdown",
   "metadata": {},
   "source": [
    "📌 **Downsides of this approach:**  \n",
    "❌ **Repetitive:** Need separate setups for every agent.  \n",
    "❌ **Manual API Calls:** Every new capability requires more boilerplate.  \n",
    "❌ **Hard to Scale:** If we add new AI tools, we must modify our code significantly.  \n",
    "\n",
    "---"
   ]
  },
  {
   "cell_type": "code",
   "execution_count": 26,
   "metadata": {},
   "outputs": [],
   "source": [
    "\n",
    "\n",
    "\n",
    "# ✅ **Quick AI Handlers**\n",
    "@kitchen.query.handler(\"scraper\")\n",
    "async def quick_summary_handler(data: WhiskQuerySchema) -> WhiskQueryBaseResponseSchema:\n",
    "    \"\"\"Summarizes documents using doc_parser.\"\"\"\n",
    "    agent = ReActAgent(\n",
    "        tools=scraper_toolhouse.get_tools(bundle=\"scraper\"),\n",
    "        llm=llm,\n",
    "        memory=ChatMemoryBuffer.from_defaults(),\n",
    "    )\n",
    "    response = await agent.achat(data.query)\n",
    "    return WhiskQueryBaseResponseSchema.from_llm_invoke(data.query, response.response)\n",
    "\n",
    "@kitchen.query.handler(\"web-search\")\n",
    "async def web_search_handler(data: WhiskQuerySchema) -> WhiskQueryBaseResponseSchema:\n",
    "    \"\"\"Performs an AI-powered web search.\"\"\"\n",
    "    agent = ReActAgent(\n",
    "        tools=web_search_toolhouse.get_tools(bundle=\"web_search\"),\n",
    "        llm=llm,\n",
    "        memory=ChatMemoryBuffer.from_defaults(),\n",
    "    )\n",
    "    response = await agent.achat(data.query)\n",
    "    return WhiskQueryBaseResponseSchema.from_llm_invoke(data.query, response.response)\n",
    "\n",
    "\n",
    "\n"
   ]
  },
  {
   "cell_type": "markdown",
   "metadata": {},
   "source": [
    "📌 **What’s Different Here?**  \n",
    "✅ **No Manual Agent Setup** – We **just define handlers** instead of manually wiring agents.  \n",
    "✅ **Automatic Tool Selection** – `kitchenAI()` **automatically picks the right AI tool**.  \n",
    "✅ **Scalability** – If we add **more AI functions**, we **don’t need to rewrite our code**.  \n",
    "\n",
    "---"
   ]
  },
  {
   "cell_type": "code",
   "execution_count": 27,
   "metadata": {},
   "outputs": [
    {
     "name": "stdout",
     "output_type": "stream",
     "text": [
      "2025-02-14 20:48:40,733 \u001b[32mINFO\u001b[0m     -       |                                                                |            - Received\n",
      "2025-02-14 20:48:40,733 \u001b[32mINFO\u001b[0m     -       |                                                                |            - Received\n",
      "2025-02-14 20:48:40,733 \u001b[32mINFO\u001b[0m     -       |                                                                  |            - Received\n",
      "2025-02-14 20:48:40,733 \u001b[32mINFO\u001b[0m     -       |                                                                  |            - Received\n",
      "2025-02-14 20:48:40,733 \u001b[32mINFO\u001b[0m     -       |                                                                  |            - Received\n",
      "2025-02-14 20:48:40,733 \u001b[32mINFO\u001b[0m     -       |                                                                  |            - Received\n",
      "2025-02-14 20:48:40,733 \u001b[32mINFO\u001b[0m     -       |                                                               |            - Received\n",
      "2025-02-14 20:48:40,738 \u001b[32mINFO\u001b[0m     -       |                                                                |            - Processed\n",
      "2025-02-14 20:48:40,738 \u001b[32mINFO\u001b[0m     -       |                                                                |            - Processed\n",
      "2025-02-14 20:48:40,738 \u001b[32mINFO\u001b[0m     -       |                                                                  |            - Processed\n",
      "2025-02-14 20:48:40,738 \u001b[32mINFO\u001b[0m     -       |                                                                  |            - Processed\n",
      "2025-02-14 20:48:40,738 \u001b[32mINFO\u001b[0m     -       |                                                                  |            - Processed\n",
      "2025-02-14 20:48:40,738 \u001b[32mINFO\u001b[0m     -       |                                                                  |            - Processed\n",
      "2025-02-14 20:48:40,738 \u001b[32mINFO\u001b[0m     -       |                                                               |            - Processed\n"
     ]
    },
    {
     "data": {
      "text/html": [
       "<pre style=\"white-space:pre;overflow-x:auto;line-height:normal;font-family:Menlo,'DejaVu Sans Mono',consolas,'Courier New',monospace\">\n",
       "<span style=\"color: #000080; text-decoration-color: #000080; font-weight: bold\">KitchenAI Configuration:</span>\n",
       "</pre>\n"
      ],
      "text/plain": [
       "\n",
       "\u001b[1;34mKitchenAI Configuration:\u001b[0m\n"
      ]
     },
     "metadata": {},
     "output_type": "display_data"
    },
    {
     "data": {
      "text/html": [
       "<pre style=\"white-space:pre;overflow-x:auto;line-height:normal;font-family:Menlo,'DejaVu Sans Mono',consolas,'Courier New',monospace\"><span style=\"color: #008080; text-decoration-color: #008080; font-weight: bold\">{</span>\n",
       "<span style=\"color: #008080; text-decoration-color: #008080\">    </span><span style=\"color: #008000; text-decoration-color: #008000\">'namespace'</span><span style=\"color: #008080; text-decoration-color: #008080\">: </span><span style=\"color: #008000; text-decoration-color: #008000\">'AI-Toolkit-Demo-2'</span><span style=\"color: #008080; text-decoration-color: #008080\">,</span>\n",
       "<span style=\"color: #008080; text-decoration-color: #008080\">    </span><span style=\"color: #008000; text-decoration-color: #008000\">'query_handlers'</span><span style=\"color: #008080; text-decoration-color: #008080\">: </span><span style=\"color: #008080; text-decoration-color: #008080; font-weight: bold\">[</span><span style=\"color: #008000; text-decoration-color: #008000\">'scraper'</span><span style=\"color: #008080; text-decoration-color: #008080\">, </span><span style=\"color: #008000; text-decoration-color: #008000\">'web-search'</span><span style=\"color: #008080; text-decoration-color: #008080; font-weight: bold\">]</span><span style=\"color: #008080; text-decoration-color: #008080\">,</span>\n",
       "<span style=\"color: #008080; text-decoration-color: #008080\">    </span><span style=\"color: #008000; text-decoration-color: #008000\">'storage_handlers'</span><span style=\"color: #008080; text-decoration-color: #008080\">: </span><span style=\"color: #008080; text-decoration-color: #008080; font-weight: bold\">[]</span><span style=\"color: #008080; text-decoration-color: #008080\">,</span>\n",
       "<span style=\"color: #008080; text-decoration-color: #008080\">    </span><span style=\"color: #008000; text-decoration-color: #008000\">'embed_handlers'</span><span style=\"color: #008080; text-decoration-color: #008080\">: </span><span style=\"color: #008080; text-decoration-color: #008080; font-weight: bold\">[]</span><span style=\"color: #008080; text-decoration-color: #008080\">,</span>\n",
       "<span style=\"color: #008080; text-decoration-color: #008080\">    </span><span style=\"color: #008000; text-decoration-color: #008000\">'agent_handlers'</span><span style=\"color: #008080; text-decoration-color: #008080\">: </span><span style=\"color: #008080; text-decoration-color: #008080; font-weight: bold\">[]</span>\n",
       "<span style=\"color: #008080; text-decoration-color: #008080; font-weight: bold\">}</span>\n",
       "</pre>\n"
      ],
      "text/plain": [
       "\u001b[1;36m{\u001b[0m\n",
       "\u001b[36m    \u001b[0m\u001b[32m'namespace'\u001b[0m\u001b[36m: \u001b[0m\u001b[32m'AI-Toolkit-Demo-2'\u001b[0m\u001b[36m,\u001b[0m\n",
       "\u001b[36m    \u001b[0m\u001b[32m'query_handlers'\u001b[0m\u001b[36m: \u001b[0m\u001b[1;36m[\u001b[0m\u001b[32m'scraper'\u001b[0m\u001b[36m, \u001b[0m\u001b[32m'web-search'\u001b[0m\u001b[1;36m]\u001b[0m\u001b[36m,\u001b[0m\n",
       "\u001b[36m    \u001b[0m\u001b[32m'storage_handlers'\u001b[0m\u001b[36m: \u001b[0m\u001b[1;36m[\u001b[0m\u001b[1;36m]\u001b[0m\u001b[36m,\u001b[0m\n",
       "\u001b[36m    \u001b[0m\u001b[32m'embed_handlers'\u001b[0m\u001b[36m: \u001b[0m\u001b[1;36m[\u001b[0m\u001b[1;36m]\u001b[0m\u001b[36m,\u001b[0m\n",
       "\u001b[36m    \u001b[0m\u001b[32m'agent_handlers'\u001b[0m\u001b[36m: \u001b[0m\u001b[1;36m[\u001b[0m\u001b[1;36m]\u001b[0m\n",
       "\u001b[1;36m}\u001b[0m\n"
      ]
     },
     "metadata": {},
     "output_type": "display_data"
    },
    {
     "data": {
      "text/html": [
       "<pre style=\"white-space:pre;overflow-x:auto;line-height:normal;font-family:Menlo,'DejaVu Sans Mono',consolas,'Courier New',monospace\">\n",
       "<span style=\"color: #008000; text-decoration-color: #008000; font-weight: bold\">✓ Successfully registered client!</span>\n",
       "</pre>\n"
      ],
      "text/plain": [
       "\n",
       "\u001b[1;32m✓ Successfully registered client!\u001b[0m\n"
      ]
     },
     "metadata": {},
     "output_type": "display_data"
    },
    {
     "name": "stderr",
     "output_type": "stream",
     "text": [
      "2025-02-14 20:48:40,802 \u001b[32mINFO\u001b[0m     - FastStream app starting...\n"
     ]
    },
    {
     "name": "stdout",
     "output_type": "stream",
     "text": [
      "2025-02-14 20:48:40,884 \u001b[32mINFO\u001b[0m     - queue | kitchenai.service.1da00-a27a-400e-9568sdasd6uuu.query.*        |            - `HandleQuery` waiting for messages\n",
      "2025-02-14 20:48:40,884 \u001b[32mINFO\u001b[0m     - queue | kitchenai.service.1da00-a27a-400e-9568sdasd6uuu.query.*        |            - `HandleQuery` waiting for messages\n",
      "2025-02-14 20:48:40,884 \u001b[32mINFO\u001b[0m     - queue | kitchenai.service.1da00-a27a-400e-9568sdasd6uuu.query.*          |            - `HandleQuery` waiting for messages\n",
      "2025-02-14 20:48:40,884 \u001b[32mINFO\u001b[0m     - queue | kitchenai.service.1da00-a27a-400e-9568sdasd6uuu.query.*          |            - `HandleQuery` waiting for messages\n",
      "2025-02-14 20:48:40,884 \u001b[32mINFO\u001b[0m     - queue | kitchenai.service.1da00-a27a-400e-9568sdasd6uuu.query.*          |            - `HandleQuery` waiting for messages\n",
      "2025-02-14 20:48:40,884 \u001b[32mINFO\u001b[0m     - queue | kitchenai.service.1da00-a27a-400e-9568sdasd6uuu.query.*          |            - `HandleQuery` waiting for messages\n",
      "2025-02-14 20:48:40,884 \u001b[32mINFO\u001b[0m     - queue | kitchenai.service.1da00-a27a-400e-9568sdasd6uuu.query.*       |            - `HandleQuery` waiting for messages\n",
      "2025-02-14 20:48:40,884 \u001b[32mINFO\u001b[0m     - queue | kitchenai.service.1da00-a27a-400e-9568sdasd6uuu.query.*          |            - `HandleQuery` waiting for messages\n",
      "2025-02-14 20:48:40,890 \u001b[32mINFO\u001b[0m     - queue | kitchenai.service.1da00-a27a-400e-9568sdasd6uuu.heartbeat      |            - `HandleHeartbeat` waiting for messages\n",
      "2025-02-14 20:48:40,890 \u001b[32mINFO\u001b[0m     - queue | kitchenai.service.1da00-a27a-400e-9568sdasd6uuu.heartbeat      |            - `HandleHeartbeat` waiting for messages\n",
      "2025-02-14 20:48:40,890 \u001b[32mINFO\u001b[0m     - queue | kitchenai.service.1da00-a27a-400e-9568sdasd6uuu.heartbeat        |            - `HandleHeartbeat` waiting for messages\n",
      "2025-02-14 20:48:40,890 \u001b[32mINFO\u001b[0m     - queue | kitchenai.service.1da00-a27a-400e-9568sdasd6uuu.heartbeat        |            - `HandleHeartbeat` waiting for messages\n",
      "2025-02-14 20:48:40,890 \u001b[32mINFO\u001b[0m     - queue | kitchenai.service.1da00-a27a-400e-9568sdasd6uuu.heartbeat        |            - `HandleHeartbeat` waiting for messages\n",
      "2025-02-14 20:48:40,890 \u001b[32mINFO\u001b[0m     - queue | kitchenai.service.1da00-a27a-400e-9568sdasd6uuu.heartbeat        |            - `HandleHeartbeat` waiting for messages\n",
      "2025-02-14 20:48:40,890 \u001b[32mINFO\u001b[0m     - queue | kitchenai.service.1da00-a27a-400e-9568sdasd6uuu.heartbeat     |            - `HandleHeartbeat` waiting for messages\n",
      "2025-02-14 20:48:40,890 \u001b[32mINFO\u001b[0m     - queue | kitchenai.service.1da00-a27a-400e-9568sdasd6uuu.heartbeat        |            - `HandleHeartbeat` waiting for messages\n",
      "2025-02-14 20:48:40,896 \u001b[32mINFO\u001b[0m     - queue | kitchenai.service.1da00-a27a-400e-9568sdasd6uuu.storage.*      |            - `HandleStorage` waiting for messages\n",
      "2025-02-14 20:48:40,896 \u001b[32mINFO\u001b[0m     - queue | kitchenai.service.1da00-a27a-400e-9568sdasd6uuu.storage.*      |            - `HandleStorage` waiting for messages\n",
      "2025-02-14 20:48:40,896 \u001b[32mINFO\u001b[0m     - queue | kitchenai.service.1da00-a27a-400e-9568sdasd6uuu.storage.*        |            - `HandleStorage` waiting for messages\n",
      "2025-02-14 20:48:40,896 \u001b[32mINFO\u001b[0m     - queue | kitchenai.service.1da00-a27a-400e-9568sdasd6uuu.storage.*        |            - `HandleStorage` waiting for messages\n",
      "2025-02-14 20:48:40,896 \u001b[32mINFO\u001b[0m     - queue | kitchenai.service.1da00-a27a-400e-9568sdasd6uuu.storage.*        |            - `HandleStorage` waiting for messages\n",
      "2025-02-14 20:48:40,896 \u001b[32mINFO\u001b[0m     - queue | kitchenai.service.1da00-a27a-400e-9568sdasd6uuu.storage.*        |            - `HandleStorage` waiting for messages\n",
      "2025-02-14 20:48:40,896 \u001b[32mINFO\u001b[0m     - queue | kitchenai.service.1da00-a27a-400e-9568sdasd6uuu.storage.*     |            - `HandleStorage` waiting for messages\n",
      "2025-02-14 20:48:40,896 \u001b[32mINFO\u001b[0m     - queue | kitchenai.service.1da00-a27a-400e-9568sdasd6uuu.storage.*        |            - `HandleStorage` waiting for messages\n",
      "2025-02-14 20:48:40,901 \u001b[32mINFO\u001b[0m     - queue | kitchenai.service.1da00-a27a-400e-9568sdasd6uuu.storage.*.delete |            - `HandleStorageDelete` waiting for messages\n",
      "2025-02-14 20:48:40,901 \u001b[32mINFO\u001b[0m     - queue | kitchenai.service.1da00-a27a-400e-9568sdasd6uuu.storage.*.delete |            - `HandleStorageDelete` waiting for messages\n",
      "2025-02-14 20:48:40,901 \u001b[32mINFO\u001b[0m     - queue | kitchenai.service.1da00-a27a-400e-9568sdasd6uuu.storage.*.delete |            - `HandleStorageDelete` waiting for messages\n",
      "2025-02-14 20:48:40,901 \u001b[32mINFO\u001b[0m     - queue | kitchenai.service.1da00-a27a-400e-9568sdasd6uuu.storage.*.delete |            - `HandleStorageDelete` waiting for messages\n",
      "2025-02-14 20:48:40,901 \u001b[32mINFO\u001b[0m     - queue | kitchenai.service.1da00-a27a-400e-9568sdasd6uuu.storage.*.delete |            - `HandleStorageDelete` waiting for messages\n",
      "2025-02-14 20:48:40,901 \u001b[32mINFO\u001b[0m     - queue | kitchenai.service.1da00-a27a-400e-9568sdasd6uuu.storage.*.delete |            - `HandleStorageDelete` waiting for messages\n",
      "2025-02-14 20:48:40,901 \u001b[32mINFO\u001b[0m     - queue | kitchenai.service.1da00-a27a-400e-9568sdasd6uuu.storage.*.delete |            - `HandleStorageDelete` waiting for messages\n",
      "2025-02-14 20:48:40,901 \u001b[32mINFO\u001b[0m     - queue | kitchenai.service.1da00-a27a-400e-9568sdasd6uuu.storage.*.delete |            - `HandleStorageDelete` waiting for messages\n"
     ]
    },
    {
     "name": "stderr",
     "output_type": "stream",
     "text": [
      "2025-02-14 20:48:40,906 \u001b[32mINFO\u001b[0m     - FastStream app started successfully! To exit, press CTRL+C\n"
     ]
    },
    {
     "name": "stdout",
     "output_type": "stream",
     "text": [
      "2025-02-14 20:50:16,090 \u001b[32mINFO\u001b[0m     - queue | kitchenai.service.1da00-a27a-400e-9568sdasd6uuu.query.*        | 0ef9b4c5-a - Received\n",
      "2025-02-14 20:50:16,090 \u001b[32mINFO\u001b[0m     - queue | kitchenai.service.1da00-a27a-400e-9568sdasd6uuu.query.*        | 0ef9b4c5-a - Received\n",
      "2025-02-14 20:50:16,090 \u001b[32mINFO\u001b[0m     - queue | kitchenai.service.1da00-a27a-400e-9568sdasd6uuu.query.*          | 0ef9b4c5-a - Received\n",
      "2025-02-14 20:50:16,090 \u001b[32mINFO\u001b[0m     - queue | kitchenai.service.1da00-a27a-400e-9568sdasd6uuu.query.*          | 0ef9b4c5-a - Received\n",
      "2025-02-14 20:50:16,090 \u001b[32mINFO\u001b[0m     - queue | kitchenai.service.1da00-a27a-400e-9568sdasd6uuu.query.*          | 0ef9b4c5-a - Received\n",
      "2025-02-14 20:50:16,090 \u001b[32mINFO\u001b[0m     - queue | kitchenai.service.1da00-a27a-400e-9568sdasd6uuu.query.*          | 0ef9b4c5-a - Received\n",
      "2025-02-14 20:50:16,090 \u001b[32mINFO\u001b[0m     - queue | kitchenai.service.1da00-a27a-400e-9568sdasd6uuu.query.*       | 0ef9b4c5-a - Received\n",
      "2025-02-14 20:50:16,090 \u001b[32mINFO\u001b[0m     - queue | kitchenai.service.1da00-a27a-400e-9568sdasd6uuu.query.*          | 0ef9b4c5-a - Received\n",
      "2025-02-14 20:50:16,098 \u001b[32mINFO\u001b[0m     - queue | kitchenai.service.1da00-a27a-400e-9568sdasd6uuu.query.*        | 0ef9b4c5-a - Query request: query='what do you know about nvidia?' stream=False stream_id=None metadata={} label='scraper' messages=None request_id='96f2d017-bb1a-4ee9-ab7e-be89c52672b8' timestamp=1739566216.076684 client_id='1da00-a27a-400e-9568sdasd6uuu'\n",
      "2025-02-14 20:50:16,098 \u001b[32mINFO\u001b[0m     - queue | kitchenai.service.1da00-a27a-400e-9568sdasd6uuu.query.*        | 0ef9b4c5-a - Query request: query='what do you know about nvidia?' stream=False stream_id=None metadata={} label='scraper' messages=None request_id='96f2d017-bb1a-4ee9-ab7e-be89c52672b8' timestamp=1739566216.076684 client_id='1da00-a27a-400e-9568sdasd6uuu'\n",
      "2025-02-14 20:50:16,098 \u001b[32mINFO\u001b[0m     - queue | kitchenai.service.1da00-a27a-400e-9568sdasd6uuu.query.*          | 0ef9b4c5-a - Query request: query='what do you know about nvidia?' stream=False stream_id=None metadata={} label='scraper' messages=None request_id='96f2d017-bb1a-4ee9-ab7e-be89c52672b8' timestamp=1739566216.076684 client_id='1da00-a27a-400e-9568sdasd6uuu'\n",
      "2025-02-14 20:50:16,098 \u001b[32mINFO\u001b[0m     - queue | kitchenai.service.1da00-a27a-400e-9568sdasd6uuu.query.*          | 0ef9b4c5-a - Query request: query='what do you know about nvidia?' stream=False stream_id=None metadata={} label='scraper' messages=None request_id='96f2d017-bb1a-4ee9-ab7e-be89c52672b8' timestamp=1739566216.076684 client_id='1da00-a27a-400e-9568sdasd6uuu'\n",
      "2025-02-14 20:50:16,098 \u001b[32mINFO\u001b[0m     - queue | kitchenai.service.1da00-a27a-400e-9568sdasd6uuu.query.*          | 0ef9b4c5-a - Query request: query='what do you know about nvidia?' stream=False stream_id=None metadata={} label='scraper' messages=None request_id='96f2d017-bb1a-4ee9-ab7e-be89c52672b8' timestamp=1739566216.076684 client_id='1da00-a27a-400e-9568sdasd6uuu'\n",
      "2025-02-14 20:50:16,098 \u001b[32mINFO\u001b[0m     - queue | kitchenai.service.1da00-a27a-400e-9568sdasd6uuu.query.*          | 0ef9b4c5-a - Query request: query='what do you know about nvidia?' stream=False stream_id=None metadata={} label='scraper' messages=None request_id='96f2d017-bb1a-4ee9-ab7e-be89c52672b8' timestamp=1739566216.076684 client_id='1da00-a27a-400e-9568sdasd6uuu'\n",
      "2025-02-14 20:50:16,098 \u001b[32mINFO\u001b[0m     - queue | kitchenai.service.1da00-a27a-400e-9568sdasd6uuu.query.*       | 0ef9b4c5-a - Query request: query='what do you know about nvidia?' stream=False stream_id=None metadata={} label='scraper' messages=None request_id='96f2d017-bb1a-4ee9-ab7e-be89c52672b8' timestamp=1739566216.076684 client_id='1da00-a27a-400e-9568sdasd6uuu'\n",
      "2025-02-14 20:50:16,098 \u001b[32mINFO\u001b[0m     - queue | kitchenai.service.1da00-a27a-400e-9568sdasd6uuu.query.*          | 0ef9b4c5-a - Query request: query='what do you know about nvidia?' stream=False stream_id=None metadata={} label='scraper' messages=None request_id='96f2d017-bb1a-4ee9-ab7e-be89c52672b8' timestamp=1739566216.076684 client_id='1da00-a27a-400e-9568sdasd6uuu'\n",
      "2025-02-14 20:50:20,369 \u001b[32mINFO\u001b[0m     - queue | kitchenai.service.1da00-a27a-400e-9568sdasd6uuu.query.*        | 0ef9b4c5-a - Processed\n",
      "2025-02-14 20:50:20,369 \u001b[32mINFO\u001b[0m     - queue | kitchenai.service.1da00-a27a-400e-9568sdasd6uuu.query.*        | 0ef9b4c5-a - Processed\n",
      "2025-02-14 20:50:20,369 \u001b[32mINFO\u001b[0m     - queue | kitchenai.service.1da00-a27a-400e-9568sdasd6uuu.query.*          | 0ef9b4c5-a - Processed\n",
      "2025-02-14 20:50:20,369 \u001b[32mINFO\u001b[0m     - queue | kitchenai.service.1da00-a27a-400e-9568sdasd6uuu.query.*          | 0ef9b4c5-a - Processed\n",
      "2025-02-14 20:50:20,369 \u001b[32mINFO\u001b[0m     - queue | kitchenai.service.1da00-a27a-400e-9568sdasd6uuu.query.*          | 0ef9b4c5-a - Processed\n",
      "2025-02-14 20:50:20,369 \u001b[32mINFO\u001b[0m     - queue | kitchenai.service.1da00-a27a-400e-9568sdasd6uuu.query.*          | 0ef9b4c5-a - Processed\n",
      "2025-02-14 20:50:20,369 \u001b[32mINFO\u001b[0m     - queue | kitchenai.service.1da00-a27a-400e-9568sdasd6uuu.query.*       | 0ef9b4c5-a - Processed\n",
      "2025-02-14 20:50:20,369 \u001b[32mINFO\u001b[0m     - queue | kitchenai.service.1da00-a27a-400e-9568sdasd6uuu.query.*          | 0ef9b4c5-a - Processed\n",
      "2025-02-14 20:53:14,548 \u001b[32mINFO\u001b[0m     - queue | kitchenai.service.1da00-a27a-400e-9568sdasd6uuu.query.*        | 437ae2c2-a - Received\n",
      "2025-02-14 20:53:14,548 \u001b[32mINFO\u001b[0m     - queue | kitchenai.service.1da00-a27a-400e-9568sdasd6uuu.query.*        | 437ae2c2-a - Received\n",
      "2025-02-14 20:53:14,548 \u001b[32mINFO\u001b[0m     - queue | kitchenai.service.1da00-a27a-400e-9568sdasd6uuu.query.*          | 437ae2c2-a - Received\n",
      "2025-02-14 20:53:14,548 \u001b[32mINFO\u001b[0m     - queue | kitchenai.service.1da00-a27a-400e-9568sdasd6uuu.query.*          | 437ae2c2-a - Received\n",
      "2025-02-14 20:53:14,548 \u001b[32mINFO\u001b[0m     - queue | kitchenai.service.1da00-a27a-400e-9568sdasd6uuu.query.*          | 437ae2c2-a - Received\n",
      "2025-02-14 20:53:14,548 \u001b[32mINFO\u001b[0m     - queue | kitchenai.service.1da00-a27a-400e-9568sdasd6uuu.query.*          | 437ae2c2-a - Received\n",
      "2025-02-14 20:53:14,548 \u001b[32mINFO\u001b[0m     - queue | kitchenai.service.1da00-a27a-400e-9568sdasd6uuu.query.*       | 437ae2c2-a - Received\n",
      "2025-02-14 20:53:14,548 \u001b[32mINFO\u001b[0m     - queue | kitchenai.service.1da00-a27a-400e-9568sdasd6uuu.query.*          | 437ae2c2-a - Received\n",
      "2025-02-14 20:53:14,556 \u001b[32mINFO\u001b[0m     - queue | kitchenai.service.1da00-a27a-400e-9568sdasd6uuu.query.*        | 437ae2c2-a - Query request: query='what do you know about nvidia?' stream=False stream_id=None metadata={} label='web-search' messages=None request_id='a753c537-a496-48ec-a588-e05b2a95bd17' timestamp=1739566394.5344775 client_id='1da00-a27a-400e-9568sdasd6uuu'\n",
      "2025-02-14 20:53:14,556 \u001b[32mINFO\u001b[0m     - queue | kitchenai.service.1da00-a27a-400e-9568sdasd6uuu.query.*        | 437ae2c2-a - Query request: query='what do you know about nvidia?' stream=False stream_id=None metadata={} label='web-search' messages=None request_id='a753c537-a496-48ec-a588-e05b2a95bd17' timestamp=1739566394.5344775 client_id='1da00-a27a-400e-9568sdasd6uuu'\n",
      "2025-02-14 20:53:14,556 \u001b[32mINFO\u001b[0m     - queue | kitchenai.service.1da00-a27a-400e-9568sdasd6uuu.query.*          | 437ae2c2-a - Query request: query='what do you know about nvidia?' stream=False stream_id=None metadata={} label='web-search' messages=None request_id='a753c537-a496-48ec-a588-e05b2a95bd17' timestamp=1739566394.5344775 client_id='1da00-a27a-400e-9568sdasd6uuu'\n",
      "2025-02-14 20:53:14,556 \u001b[32mINFO\u001b[0m     - queue | kitchenai.service.1da00-a27a-400e-9568sdasd6uuu.query.*          | 437ae2c2-a - Query request: query='what do you know about nvidia?' stream=False stream_id=None metadata={} label='web-search' messages=None request_id='a753c537-a496-48ec-a588-e05b2a95bd17' timestamp=1739566394.5344775 client_id='1da00-a27a-400e-9568sdasd6uuu'\n",
      "2025-02-14 20:53:14,556 \u001b[32mINFO\u001b[0m     - queue | kitchenai.service.1da00-a27a-400e-9568sdasd6uuu.query.*          | 437ae2c2-a - Query request: query='what do you know about nvidia?' stream=False stream_id=None metadata={} label='web-search' messages=None request_id='a753c537-a496-48ec-a588-e05b2a95bd17' timestamp=1739566394.5344775 client_id='1da00-a27a-400e-9568sdasd6uuu'\n",
      "2025-02-14 20:53:14,556 \u001b[32mINFO\u001b[0m     - queue | kitchenai.service.1da00-a27a-400e-9568sdasd6uuu.query.*          | 437ae2c2-a - Query request: query='what do you know about nvidia?' stream=False stream_id=None metadata={} label='web-search' messages=None request_id='a753c537-a496-48ec-a588-e05b2a95bd17' timestamp=1739566394.5344775 client_id='1da00-a27a-400e-9568sdasd6uuu'\n",
      "2025-02-14 20:53:14,556 \u001b[32mINFO\u001b[0m     - queue | kitchenai.service.1da00-a27a-400e-9568sdasd6uuu.query.*       | 437ae2c2-a - Query request: query='what do you know about nvidia?' stream=False stream_id=None metadata={} label='web-search' messages=None request_id='a753c537-a496-48ec-a588-e05b2a95bd17' timestamp=1739566394.5344775 client_id='1da00-a27a-400e-9568sdasd6uuu'\n",
      "2025-02-14 20:53:14,556 \u001b[32mINFO\u001b[0m     - queue | kitchenai.service.1da00-a27a-400e-9568sdasd6uuu.query.*          | 437ae2c2-a - Query request: query='what do you know about nvidia?' stream=False stream_id=None metadata={} label='web-search' messages=None request_id='a753c537-a496-48ec-a588-e05b2a95bd17' timestamp=1739566394.5344775 client_id='1da00-a27a-400e-9568sdasd6uuu'\n",
      "2025-02-14 20:53:17,135 \u001b[32mINFO\u001b[0m     - queue | kitchenai.service.1da00-a27a-400e-9568sdasd6uuu.query.*        | 437ae2c2-a - Processed\n",
      "2025-02-14 20:53:17,135 \u001b[32mINFO\u001b[0m     - queue | kitchenai.service.1da00-a27a-400e-9568sdasd6uuu.query.*        | 437ae2c2-a - Processed\n",
      "2025-02-14 20:53:17,135 \u001b[32mINFO\u001b[0m     - queue | kitchenai.service.1da00-a27a-400e-9568sdasd6uuu.query.*          | 437ae2c2-a - Processed\n",
      "2025-02-14 20:53:17,135 \u001b[32mINFO\u001b[0m     - queue | kitchenai.service.1da00-a27a-400e-9568sdasd6uuu.query.*          | 437ae2c2-a - Processed\n",
      "2025-02-14 20:53:17,135 \u001b[32mINFO\u001b[0m     - queue | kitchenai.service.1da00-a27a-400e-9568sdasd6uuu.query.*          | 437ae2c2-a - Processed\n",
      "2025-02-14 20:53:17,135 \u001b[32mINFO\u001b[0m     - queue | kitchenai.service.1da00-a27a-400e-9568sdasd6uuu.query.*          | 437ae2c2-a - Processed\n",
      "2025-02-14 20:53:17,135 \u001b[32mINFO\u001b[0m     - queue | kitchenai.service.1da00-a27a-400e-9568sdasd6uuu.query.*       | 437ae2c2-a - Processed\n",
      "2025-02-14 20:53:17,135 \u001b[32mINFO\u001b[0m     - queue | kitchenai.service.1da00-a27a-400e-9568sdasd6uuu.query.*          | 437ae2c2-a - Processed\n"
     ]
    },
    {
     "name": "stderr",
     "output_type": "stream",
     "text": [
      "2025-02-14 21:00:03,582 \u001b[32mINFO\u001b[0m     - FastStream app shutting down...\n",
      "2025-02-14 21:00:03,610 \u001b[32mINFO\u001b[0m     - FastStream app shut down gracefully.\n"
     ]
    }
   ],
   "source": [
    "\n",
    "client = WhiskClient(\n",
    "    nats_url=\"nats://nats.playground.kitchenai.dev:4222\",\n",
    "    client_id=\"1da00-a27a-400e-9568sdasd6uuu\", #change to any random id you want. This has 1-1 relation with KtichenAI app. For playground, generate client_id from https://playground.kitchenai.dev/apps/playground/.\n",
    "    user=\"playground\", #optional if you are using playground url\n",
    "    password=\"kitchenai_playground\", #optional if you are using playground url\n",
    "    kitchen=kitchen,\n",
    ")\n",
    "await client.run()"
   ]
  },
  {
   "cell_type": "markdown",
   "metadata": {},
   "source": [
    "📌 **Execution:**  \n",
    "- The **Web Search Agent** handles search queries.  \n",
    "- The **Scraper Agent** extracts data.  \n",
    "- The **LLM processes everything** and returns a structured response.  \n",
    "- **No need to manually call individual AI agents.**  \n",
    "\n",
    "---"
   ]
  },
  {
   "cell_type": "markdown",
   "metadata": {},
   "source": [
    "## What We Learned\n",
    "\n",
    "1️⃣ **Traditional AI Workflows** require **manual agent setup, API calls, and tool management**.  \n",
    "2️⃣ **KitchenAI** allows us to **register AI tools once and use them dynamically**.  \n",
    "3️⃣ **Scalability** – We can **add new capabilities without rewriting code**.  \n"
   ]
  }
 ],
 "metadata": {
  "kernelspec": {
   "display_name": "kitchenai",
   "language": "python",
   "name": "python3"
  },
  "language_info": {
   "codemirror_mode": {
    "name": "ipython",
    "version": 3
   },
   "file_extension": ".py",
   "mimetype": "text/x-python",
   "name": "python",
   "nbconvert_exporter": "python",
   "pygments_lexer": "ipython3",
   "version": "3.11.2"
  }
 },
 "nbformat": 4,
 "nbformat_minor": 2
}
