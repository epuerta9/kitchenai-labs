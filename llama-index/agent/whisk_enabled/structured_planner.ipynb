{
 "cells": [
  {
   "cell_type": "markdown",
   "metadata": {},
   "source": [
    "# Structured Planning Agent\n",
    "\n",
    "A key pattern in agents is the ability to plan. ReAct for example, uses a structured approach to decompose an input into a set of function calls and thoughts, in order to reason about a final response.\n",
    "\n",
    "However, breaking down the initial input/task into several sub-tasks can make the ReAct loop (or other reasoning loops) easier to execute.\n",
    "\n",
    "The `StructuredPlanningAgnet` in LlamaIndex wraps any agent worker (ReAct, Function Calling, Chain-of-Abstraction, etc.) and decomposes an initial input into several sub-tasks. Each sub-task is represented by an input, expected outcome, and any dependendant sub-tasks that should be completed first.\n",
    "\n",
    "This notebook walks through both the high-level and low-level usage of this agent.\n",
    "\n",
    "**NOTE:** This agent leverages both structured outputs and agentic reasoning. Because of this, we would recommend a capable LLM (OpenAI, Anthropic, etc.), and open-source LLMs may struggle to plan without prompt engineering or fine-tuning."
   ]
  },
  {
   "cell_type": "markdown",
   "metadata": {},
   "source": [
    "## Setup\n",
    "\n",
    "In order to create plans, we need a set of tools to create plans on top of. Here, we use some classic 10k examples."
   ]
  },
  {
   "cell_type": "code",
   "execution_count": 1,
   "metadata": {},
   "outputs": [
    {
     "name": "stdout",
     "output_type": "stream",
     "text": [
      "--2025-02-18 06:09:49--  https://raw.githubusercontent.com/run-llama/llama_index/main/docs/docs/examples/data/10k/uber_2021.pdf\n",
      "Resolving raw.githubusercontent.com (raw.githubusercontent.com)... 185.199.111.133, 185.199.109.133, 185.199.108.133, ...\n",
      "Connecting to raw.githubusercontent.com (raw.githubusercontent.com)|185.199.111.133|:443... connected.\n",
      "HTTP request sent, awaiting response... 200 OK\n",
      "Length: 1880483 (1.8M) [application/octet-stream]\n",
      "Saving to: ‘data/10k/uber_2021.pdf’\n",
      "\n",
      "data/10k/uber_2021. 100%[===================>]   1.79M  --.-KB/s    in 0.06s   \n",
      "\n",
      "2025-02-18 06:09:49 (30.7 MB/s) - ‘data/10k/uber_2021.pdf’ saved [1880483/1880483]\n",
      "\n",
      "--2025-02-18 06:09:49--  https://raw.githubusercontent.com/run-llama/llama_index/main/docs/docs/examples/data/10k/lyft_2021.pdf\n",
      "Resolving raw.githubusercontent.com (raw.githubusercontent.com)... 185.199.111.133, 185.199.109.133, 185.199.108.133, ...\n",
      "Connecting to raw.githubusercontent.com (raw.githubusercontent.com)|185.199.111.133|:443... connected.\n",
      "HTTP request sent, awaiting response... 200 OK\n",
      "Length: 1440303 (1.4M) [application/octet-stream]\n",
      "Saving to: ‘data/10k/lyft_2021.pdf’\n",
      "\n",
      "data/10k/lyft_2021. 100%[===================>]   1.37M  --.-KB/s    in 0.05s   \n",
      "\n",
      "2025-02-18 06:09:50 (25.9 MB/s) - ‘data/10k/lyft_2021.pdf’ saved [1440303/1440303]\n",
      "\n"
     ]
    }
   ],
   "source": [
    "!mkdir -p 'data/10k/'\n",
    "!wget 'https://raw.githubusercontent.com/run-llama/llama_index/main/docs/docs/examples/data/10k/uber_2021.pdf' -O 'data/10k/uber_2021.pdf'\n",
    "!wget 'https://raw.githubusercontent.com/run-llama/llama_index/main/docs/docs/examples/data/10k/lyft_2021.pdf' -O 'data/10k/lyft_2021.pdf'"
   ]
  },
  {
   "cell_type": "code",
   "execution_count": 5,
   "metadata": {},
   "outputs": [
    {
     "name": "stdout",
     "output_type": "stream",
     "text": [
      "Requirement already satisfied: kitchenai-whisk in /usr/local/python/current/lib/python3.11/site-packages (0.2.1)\n",
      "Requirement already satisfied: anyio>=3.7.1 in /usr/local/python/current/lib/python3.11/site-packages (from kitchenai-whisk) (4.8.0)\n",
      "Requirement already satisfied: cookiecutter>=2.5.0 in /usr/local/python/current/lib/python3.11/site-packages (from kitchenai-whisk) (2.6.0)\n",
      "Requirement already satisfied: fastapi>=0.100.0 in /usr/local/python/current/lib/python3.11/site-packages (from kitchenai-whisk) (0.115.8)\n",
      "Requirement already satisfied: faststream>=0.4.0 in /usr/local/python/current/lib/python3.11/site-packages (from faststream[nats]>=0.4.0->kitchenai-whisk) (0.5.34)\n",
      "Requirement already satisfied: httpx>=0.26.0 in /usr/local/python/current/lib/python3.11/site-packages (from kitchenai-whisk) (0.28.1)\n",
      "Requirement already satisfied: pydantic>=2.0.0 in /home/vscode/.local/lib/python3.11/site-packages (from kitchenai-whisk) (2.10.6)\n",
      "Requirement already satisfied: python-multipart in /usr/local/python/current/lib/python3.11/site-packages (from kitchenai-whisk) (0.0.20)\n",
      "Requirement already satisfied: pyyaml>=6.0.0 in /usr/local/python/current/lib/python3.11/site-packages (from kitchenai-whisk) (6.0.2)\n",
      "Requirement already satisfied: rich>=13.7.0 in /usr/local/python/current/lib/python3.11/site-packages (from kitchenai-whisk) (13.9.4)\n",
      "Requirement already satisfied: typer>=0.9.0 in /usr/local/python/current/lib/python3.11/site-packages (from kitchenai-whisk) (0.15.1)\n",
      "Requirement already satisfied: uvicorn>=0.27.0 in /usr/local/python/current/lib/python3.11/site-packages (from kitchenai-whisk) (0.34.0)\n",
      "Requirement already satisfied: watchfiles in /usr/local/python/current/lib/python3.11/site-packages (from kitchenai-whisk) (1.0.4)\n",
      "Requirement already satisfied: idna>=2.8 in /usr/local/python/current/lib/python3.11/site-packages (from anyio>=3.7.1->kitchenai-whisk) (3.10)\n",
      "Requirement already satisfied: sniffio>=1.1 in /usr/local/python/current/lib/python3.11/site-packages (from anyio>=3.7.1->kitchenai-whisk) (1.3.1)\n",
      "Requirement already satisfied: typing_extensions>=4.5 in /home/vscode/.local/lib/python3.11/site-packages (from anyio>=3.7.1->kitchenai-whisk) (4.12.2)\n",
      "Requirement already satisfied: binaryornot>=0.4.4 in /usr/local/python/current/lib/python3.11/site-packages (from cookiecutter>=2.5.0->kitchenai-whisk) (0.4.4)\n",
      "Requirement already satisfied: Jinja2<4.0.0,>=2.7 in /usr/local/python/current/lib/python3.11/site-packages (from cookiecutter>=2.5.0->kitchenai-whisk) (3.1.5)\n",
      "Requirement already satisfied: click<9.0.0,>=7.0 in /home/vscode/.local/lib/python3.11/site-packages (from cookiecutter>=2.5.0->kitchenai-whisk) (8.1.8)\n",
      "Requirement already satisfied: python-slugify>=4.0.0 in /usr/local/python/current/lib/python3.11/site-packages (from cookiecutter>=2.5.0->kitchenai-whisk) (8.0.4)\n",
      "Requirement already satisfied: requests>=2.23.0 in /usr/local/python/current/lib/python3.11/site-packages (from cookiecutter>=2.5.0->kitchenai-whisk) (2.32.3)\n",
      "Requirement already satisfied: arrow in /usr/local/python/current/lib/python3.11/site-packages (from cookiecutter>=2.5.0->kitchenai-whisk) (1.3.0)\n",
      "Requirement already satisfied: starlette<0.46.0,>=0.40.0 in /usr/local/python/current/lib/python3.11/site-packages (from fastapi>=0.100.0->kitchenai-whisk) (0.45.3)\n",
      "Requirement already satisfied: fast-depends<3.0.0,>=2.4.0b0 in /usr/local/python/current/lib/python3.11/site-packages (from faststream>=0.4.0->faststream[nats]>=0.4.0->kitchenai-whisk) (2.4.12)\n",
      "Requirement already satisfied: nats-py<=3.0.0,>=2.7.0 in /usr/local/python/current/lib/python3.11/site-packages (from faststream[nats]>=0.4.0->kitchenai-whisk) (2.9.0)\n",
      "Requirement already satisfied: certifi in /usr/local/python/current/lib/python3.11/site-packages (from httpx>=0.26.0->kitchenai-whisk) (2025.1.31)\n",
      "Requirement already satisfied: httpcore==1.* in /usr/local/python/current/lib/python3.11/site-packages (from httpx>=0.26.0->kitchenai-whisk) (1.0.7)\n",
      "Requirement already satisfied: h11<0.15,>=0.13 in /usr/local/python/current/lib/python3.11/site-packages (from httpcore==1.*->httpx>=0.26.0->kitchenai-whisk) (0.14.0)\n",
      "Requirement already satisfied: annotated-types>=0.6.0 in /home/vscode/.local/lib/python3.11/site-packages (from pydantic>=2.0.0->kitchenai-whisk) (0.7.0)\n",
      "Requirement already satisfied: pydantic-core==2.27.2 in /home/vscode/.local/lib/python3.11/site-packages (from pydantic>=2.0.0->kitchenai-whisk) (2.27.2)\n",
      "Requirement already satisfied: markdown-it-py>=2.2.0 in /usr/local/python/current/lib/python3.11/site-packages (from rich>=13.7.0->kitchenai-whisk) (3.0.0)\n",
      "Requirement already satisfied: pygments<3.0.0,>=2.13.0 in /home/vscode/.local/lib/python3.11/site-packages (from rich>=13.7.0->kitchenai-whisk) (2.19.1)\n",
      "Requirement already satisfied: shellingham>=1.3.0 in /usr/local/python/current/lib/python3.11/site-packages (from typer>=0.9.0->kitchenai-whisk) (1.5.4)\n",
      "Requirement already satisfied: chardet>=3.0.2 in /usr/local/python/current/lib/python3.11/site-packages (from binaryornot>=0.4.4->cookiecutter>=2.5.0->kitchenai-whisk) (5.2.0)\n",
      "Requirement already satisfied: MarkupSafe>=2.0 in /usr/local/python/current/lib/python3.11/site-packages (from Jinja2<4.0.0,>=2.7->cookiecutter>=2.5.0->kitchenai-whisk) (3.0.2)\n",
      "Requirement already satisfied: mdurl~=0.1 in /usr/local/python/current/lib/python3.11/site-packages (from markdown-it-py>=2.2.0->rich>=13.7.0->kitchenai-whisk) (0.1.2)\n",
      "Requirement already satisfied: text-unidecode>=1.3 in /usr/local/python/current/lib/python3.11/site-packages (from python-slugify>=4.0.0->cookiecutter>=2.5.0->kitchenai-whisk) (1.3)\n",
      "Requirement already satisfied: charset-normalizer<4,>=2 in /usr/local/python/current/lib/python3.11/site-packages (from requests>=2.23.0->cookiecutter>=2.5.0->kitchenai-whisk) (3.4.1)\n",
      "Requirement already satisfied: urllib3<3,>=1.21.1 in /usr/local/python/current/lib/python3.11/site-packages (from requests>=2.23.0->cookiecutter>=2.5.0->kitchenai-whisk) (2.3.0)\n",
      "Requirement already satisfied: python-dateutil>=2.7.0 in /home/vscode/.local/lib/python3.11/site-packages (from arrow->cookiecutter>=2.5.0->kitchenai-whisk) (2.9.0.post0)\n",
      "Requirement already satisfied: types-python-dateutil>=2.8.10 in /usr/local/python/current/lib/python3.11/site-packages (from arrow->cookiecutter>=2.5.0->kitchenai-whisk) (2.9.0.20241206)\n",
      "Requirement already satisfied: six>=1.5 in /home/vscode/.local/lib/python3.11/site-packages (from python-dateutil>=2.7.0->arrow->cookiecutter>=2.5.0->kitchenai-whisk) (1.17.0)\n",
      "Note: you may need to restart the kernel to use updated packages.\n"
     ]
    }
   ],
   "source": [
    "%pip install kitchenai-whisk"
   ]
  },
  {
   "cell_type": "code",
   "execution_count": 2,
   "metadata": {},
   "outputs": [],
   "source": [
    "import os\n",
    "\n",
    "api_key = input(\"Please enter your OpenAI API key: \")\n",
    "os.environ[\"OPENAI_API_KEY\"] = api_key"
   ]
  },
  {
   "cell_type": "code",
   "execution_count": 8,
   "metadata": {},
   "outputs": [],
   "source": [
    "from whisk.kitchenai_sdk.kitchenai import KitchenAIApp\n",
    "from whisk.kitchenai_sdk.schema import (\n",
    "    ChatInput, \n",
    "    ChatResponse,\n",
    ")\n",
    "kitchen = KitchenAIApp(namespace=\"structured-planning-agent\")\n"
   ]
  },
  {
   "cell_type": "code",
   "execution_count": 3,
   "metadata": {},
   "outputs": [],
   "source": [
    "from llama_index.core import Settings\n",
    "from llama_index.llms.openai import OpenAI\n",
    "from llama_index.embeddings.openai import OpenAIEmbedding\n",
    "\n",
    "# Use ollama in JSON mode\n",
    "Settings.llm = OpenAI(\n",
    "    model=\"gpt-4-turbo\",\n",
    "    temperature=0.1,\n",
    ")\n",
    "Settings.embed_model = OpenAIEmbedding(model_name=\"text-embedding-3-small\")"
   ]
  },
  {
   "cell_type": "code",
   "execution_count": 4,
   "metadata": {},
   "outputs": [],
   "source": [
    "from llama_index.core import VectorStoreIndex, SimpleDirectoryReader\n",
    "from llama_index.core.tools import QueryEngineTool\n",
    "\n",
    "# Load documents, create tools\n",
    "lyft_documents = SimpleDirectoryReader(\n",
    "    input_files=[\"./data/10k/lyft_2021.pdf\"]\n",
    ").load_data()\n",
    "uber_documents = SimpleDirectoryReader(\n",
    "    input_files=[\"./data/10k/uber_2021.pdf\"]\n",
    ").load_data()\n",
    "\n",
    "lyft_index = VectorStoreIndex.from_documents(lyft_documents)\n",
    "uber_index = VectorStoreIndex.from_documents(uber_documents)\n",
    "\n",
    "lyft_tool = QueryEngineTool.from_defaults(\n",
    "    lyft_index.as_query_engine(),\n",
    "    name=\"lyft_2021\",\n",
    "    description=\"Useful for asking questions about Lyft's 2021 10-K filling.\",\n",
    ")\n",
    "\n",
    "uber_tool = QueryEngineTool.from_defaults(\n",
    "    uber_index.as_query_engine(),\n",
    "    name=\"uber_2021\",\n",
    "    description=\"Useful for asking questions about Uber's 2021 10-K filling.\",\n",
    ")"
   ]
  },
  {
   "cell_type": "markdown",
   "metadata": {},
   "source": [
    "## High Level API\n",
    "\n",
    "In this section, we cover the high-level API for creating with and chatting with a structured planning agent.\n",
    "\n",
    "### Create the Agent"
   ]
  },
  {
   "cell_type": "code",
   "execution_count": 6,
   "metadata": {},
   "outputs": [],
   "source": [
    "from llama_index.core.agent import (\n",
    "    StructuredPlannerAgent,\n",
    "    FunctionCallingAgentWorker,\n",
    "    ReActAgentWorker,\n",
    ")\n",
    "\n",
    "# create the function calling worker for reasoning\n",
    "worker = FunctionCallingAgentWorker.from_tools(\n",
    "    [lyft_tool, uber_tool], verbose=True\n",
    ")\n",
    "\n",
    "# wrap the worker in the top-level planner\n",
    "agent = StructuredPlannerAgent(\n",
    "    worker, tools=[lyft_tool, uber_tool], verbose=True\n",
    ")"
   ]
  },
  {
   "cell_type": "markdown",
   "metadata": {},
   "source": [
    "### Give the agent a complex task"
   ]
  },
  {
   "cell_type": "code",
   "execution_count": 12,
   "metadata": {},
   "outputs": [],
   "source": [
    "import nest_asyncio\n",
    "\n",
    "nest_asyncio.apply()"
   ]
  },
  {
   "cell_type": "code",
   "execution_count": 13,
   "metadata": {},
   "outputs": [
    {
     "name": "stdout",
     "output_type": "stream",
     "text": [
      "=== Initial plan ===\n",
      "Extract Lyft Risk Factors:\n",
      "Summarize the key risk factors from Lyft's 2021 10-K filing. -> A summary of the key risk factors for Lyft as outlined in their 2021 10-K filing.\n",
      "deps: []\n",
      "\n",
      "\n",
      "Extract Uber Risk Factors:\n",
      "Summarize the key risk factors from Uber's 2021 10-K filing. -> A summary of the key risk factors for Uber as outlined in their 2021 10-K filing.\n",
      "deps: []\n",
      "\n",
      "\n",
      "Combine Risk Factors Summaries:\n",
      "Combine the summaries of key risk factors for Lyft and Uber from their 2021 10-K filings into a comprehensive overview. -> A comprehensive summary of the key risk factors for both Lyft and Uber as outlined in their 2021 10-K filings.\n",
      "deps: ['Extract Lyft Risk Factors', 'Extract Uber Risk Factors']\n",
      "\n",
      "\n",
      "> Running step 6dfb62bc-4c6c-45e1-a8c0-59e9b224ef48. Step input: Summarize the key risk factors from Lyft's 2021 10-K filing.\n",
      "Added user message to memory: Summarize the key risk factors from Lyft's 2021 10-K filing.\n",
      "> Running step 69fbedb7-6516-40e9-bb90-bae985a532b2. Step input: Summarize the key risk factors from Uber's 2021 10-K filing.\n",
      "Added user message to memory: Summarize the key risk factors from Uber's 2021 10-K filing.\n",
      "=== Calling Function ===\n",
      "Calling function: lyft_2021 with args: {\"input\": \"What are the key risk factors mentioned in the 2021 10-K filing?\"}\n",
      "=== Calling Function ===\n",
      "Calling function: uber_2021 with args: {\"input\": \"key risk factors\"}\n",
      "=== Function Output ===\n",
      "The key risk factors include:\n",
      "\n",
      "1. **Market Risk**: This encompasses interest rate risk, investment risk, and foreign currency risk. Interest rate risk is associated with the company's refinanced term loan facilities, which are subject to fluctuations in interest rates that could impact financial statements. Investment risk involves the preservation of capital and meeting liquidity requirements without significantly increasing risk, with investments primarily in money market funds and cash deposits. Foreign currency risk arises from international transactions in multiple currencies, which could affect revenue and operating results due to exchange rate fluctuations.\n",
      "\n",
      "2. **Cybersecurity Risk**: The company faces risks from cyberattacks, including malware, ransomware, viruses, spamming, and phishing, which could harm its reputation, business, and operating results. These attacks could disrupt the security of the company's systems and platforms, compromise confidential or technical business information, result in theft or misuse of intellectual property, and necessitate increased resources to enhance technological defenses.\n",
      "\n",
      "3. **Compliance and Relationship Risk with Payment Networks**: Failure to maintain compliance with payment card network standards or to maintain good relationships with these networks could lead to increased costs, loss of credit card acceptance privileges, or adverse modifications to the terms under which these privileges are granted. This could negatively impact the company's business, revenue, and operating results.\n",
      "\n",
      "These risks are critical as they directly affect the company's operational and financial stability.\n",
      "> Running step 1d329ea4-a020-44b2-ae10-b2821e115b34. Step input: None\n",
      "=== Function Output ===\n",
      "The key risk factors mentioned in the 2021 10-K filing include:\n",
      "\n",
      "1. General economic factors such as the impact of the COVID-19 pandemic, natural disasters, economic downturns, public health crises, and political crises.\n",
      "2. Operational factors including the company's limited operating history, financial performance, competition, unpredictability of results, growth uncertainty in the ridesharing market, driver and rider retention, insurance coverage adequacy, autonomous vehicle technology development, reputation, illegal or improper user activities, background check accuracy, pricing changes, network and vehicle quality, growth management, security or privacy breaches, reliance on third parties, and the operation of specific programs like Express Drive and Lyft Rentals.\n",
      "3. Regulatory and legal factors like driver classification, changes in laws and regulations, privacy and data protection compliance, litigation risks, intellectual property issues, tax collection assertions, and the effectiveness of internal controls.\n",
      "4. Financing and transactional risks such as future capital requirements, debt servicing, counterparty risks in capped call transactions, integration of acquisitions, tax liabilities, and changes in tax matters.\n",
      "5. Governance risks and risks related to ownership of capital stock, including provisions that may hinder mergers or proxy contests, exclusive forum provisions, dual class stock structure, stock price volatility, substantial stock sales, dividend policies, and the impact of analyst research.\n",
      "\n",
      "These factors could adversely affect the company's business, financial condition, results of operations, and prospects, potentially leading to a decline in the market price of its Class A common stock.\n",
      "> Running step e8351bef-9c90-4871-89da-ee1a4eef3c54. Step input: None\n",
      "=== LLM Response ===\n",
      "The key risk factors mentioned in Lyft's 2021 10-K filing include:\n",
      "\n",
      "1. **Economic Factors**: Impact of COVID-19, natural disasters, economic downturns, public health crises, and political crises.\n",
      "2. **Operational Factors**: Limited operating history, financial performance, competition, unpredictability of results, growth uncertainty in the ridesharing market, driver and rider retention, insurance coverage adequacy, autonomous vehicle technology development, reputation, illegal or improper user activities, background check accuracy, pricing changes, network and vehicle quality, growth management, security or privacy breaches, reliance on third parties, and the operation of specific programs like Express Drive and Lyft Rentals.\n",
      "3. **Regulatory and Legal Factors**: Driver classification, changes in laws and regulations, privacy and data protection compliance, litigation risks, intellectual property issues, tax collection assertions, and the effectiveness of internal controls.\n",
      "4. **Financing and Transactional Risks**: Future capital requirements, debt servicing, counterparty risks in capped call transactions, integration of acquisitions, tax liabilities, and changes in tax matters.\n",
      "5. **Governance Risks and Ownership of Capital Stock**: Provisions that may hinder mergers or proxy contests, exclusive forum provisions, dual class stock structure, stock price volatility, substantial stock sales, dividend policies, and the impact of analyst research.\n",
      "\n",
      "These factors could adversely affect Lyft's business, financial condition, results of operations, and prospects, potentially leading to a decline in the market price of its Class A common stock.\n",
      "=== LLM Response ===\n",
      "The key risk factors identified in Uber's 2021 10-K filing include:\n",
      "\n",
      "1. **Market Risk**:\n",
      "   - **Interest Rate Risk**: Fluctuations in interest rates could impact financial statements due to the company's refinanced term loan facilities.\n",
      "   - **Investment Risk**: The need to preserve capital and meet liquidity requirements without significantly increasing risk, primarily through investments in money market funds and cash deposits.\n",
      "   - **Foreign Currency Risk**: Exchange rate fluctuations could affect revenue and operating results due to international transactions in multiple currencies.\n",
      "\n",
      "2. **Cybersecurity Risk**:\n",
      "   - The company is susceptible to cyberattacks such as malware, ransomware, viruses, spamming, and phishing. These attacks could harm Uber's reputation, business, and operating results by disrupting the security of its systems and platforms, compromising confidential or technical business information, resulting in theft or misuse of intellectual property, and necessitating increased resources to enhance technological defenses.\n",
      "\n",
      "3. **Compliance and Relationship Risk with Payment Networks**:\n",
      "   - Failure to maintain compliance with payment card network standards or to maintain good relationships with these networks could lead to increased costs, loss of credit card acceptance privileges, or adverse modifications to the terms under which these privileges are granted. This could negatively impact Uber's business, revenue, and operating results.\n",
      "\n",
      "These risk factors are crucial as they directly influence Uber's operational and financial stability.\n",
      "=== Refined plan ===\n",
      "Combine Risk Factors Summaries:\n",
      "Combine the summaries of key risk factors for Lyft and Uber from their 2021 10-K filings into a comprehensive overview. -> A comprehensive summary of the key risk factors for both Lyft and Uber as outlined in their 2021 10-K filings.\n",
      "deps: ['Extract Lyft Risk Factors', 'Extract Uber Risk Factors']\n",
      "\n",
      "\n",
      "Finalize Risk Factors Summary:\n",
      "Review and finalize the comprehensive summary of key risk factors for Lyft and Uber to ensure it is complete and accurate. -> A finalized and accurate comprehensive summary of the key risk factors for Lyft and Uber.\n",
      "deps: ['Combine Risk Factors Summaries']\n",
      "\n",
      "\n",
      "> Running step ad1247fa-7e50-40e9-9aff-a6f3f7e58ad6. Step input: Combine the summaries of key risk factors for Lyft and Uber from their 2021 10-K filings into a comprehensive overview.\n",
      "Added user message to memory: Combine the summaries of key risk factors for Lyft and Uber from their 2021 10-K filings into a comprehensive overview.\n",
      "=== LLM Response ===\n",
      "The key risk factors from the 2021 10-K filings for Lyft and Uber provide insights into the challenges faced by these companies in the ridesharing and broader mobility industry. Here’s a comprehensive overview combining the risk factors from both companies:\n",
      "\n",
      "### Economic and Market Risks\n",
      "- **General Economic Factors**: Both companies are affected by the impact of COVID-19, natural disasters, economic downturns, public health crises, and political crises.\n",
      "- **Market Risk (Uber-specific)**: Includes interest rate risk related to refinanced term loan facilities, investment risk in managing liquidity and capital preservation, and foreign currency risk from international transactions.\n",
      "\n",
      "### Operational Risks\n",
      "- **Operational Factors (Lyft-specific)**: Challenges include limited operating history, unpredictability of financial performance, competition, growth uncertainty in the ridesharing market, driver and rider retention, insurance coverage adequacy, autonomous vehicle technology, reputation issues, illegal or improper user activities, background check accuracy, pricing changes, network and vehicle quality, growth management, security or privacy breaches, reliance on third parties, and specific program operations like Express Drive and Lyft Rentals.\n",
      "\n",
      "### Cybersecurity Risks\n",
      "- **Cybersecurity (Uber-specific)**: Risks from cyberattacks such as malware, ransomware, viruses, spamming, and phishing could disrupt systems, compromise information, result in intellectual property theft, and necessitate increased technological defenses.\n",
      "\n",
      "### Regulatory and Legal Risks\n",
      "- **Regulatory and Legal Factors (Lyft-specific)**: Includes driver classification issues, changes in laws and regulations, privacy and data protection compliance, litigation risks, intellectual property issues, tax collection assertions, and internal controls effectiveness.\n",
      "\n",
      "### Financing and Transactional Risks\n",
      "- **Financing and Transactional Risks (Lyft-specific)**: Concerns about future capital requirements, debt servicing, counterparty risks in transactions, integration of acquisitions, tax liabilities, and changes in tax matters.\n",
      "\n",
      "### Compliance and Relationship Risks\n",
      "- **Compliance and Relationship Risk with Payment Networks (Uber-specific)**: Failure to maintain compliance with payment card network standards or good relationships with these networks could lead to increased costs, loss of credit card acceptance privileges, or adverse modifications to terms.\n",
      "\n",
      "### Governance and Ownership Risks\n",
      "- **Governance Risks and Ownership of Capital Stock (Lyft-specific)**: Issues include provisions that may hinder mergers or proxy contests, exclusive forum provisions, dual class stock structure, stock price volatility, substantial stock sales, dividend policies, and the impact of analyst research.\n",
      "\n",
      "These risk factors highlight the complex environment in which Lyft and Uber operate, with both companies facing significant challenges related to economic conditions, operational complexities, cybersecurity threats, regulatory landscapes, and financial stability.\n",
      "=== Refined plan ===\n",
      "Finalize Risk Factors Summary:\n",
      "Review and finalize the comprehensive summary of key risk factors for Lyft and Uber to ensure it is complete and accurate. -> A finalized and accurate comprehensive summary of the key risk factors for Lyft and Uber.\n",
      "deps: ['Combine Risk Factors Summaries']\n",
      "\n",
      "\n",
      "> Running step 94feda9a-4b10-4b00-91c3-e49229534b6c. Step input: Review and finalize the comprehensive summary of key risk factors for Lyft and Uber to ensure it is complete and accurate.\n",
      "Added user message to memory: Review and finalize the comprehensive summary of key risk factors for Lyft and Uber to ensure it is complete and accurate.\n",
      "=== LLM Response ===\n",
      "Here is the finalized comprehensive summary of key risk factors for Lyft and Uber based on their 2021 10-K filings:\n",
      "\n",
      "### Economic and Market Risks\n",
      "- **General Economic Factors**: Both Lyft and Uber are impacted by macroeconomic conditions such as the COVID-19 pandemic, natural disasters, economic downturns, public health crises, and political crises.\n",
      "- **Market Risk (Uber-specific)**: Uber faces interest rate risk associated with its refinanced term loan facilities, investment risk concerning liquidity and capital preservation, and foreign currency risk due to international transactions.\n",
      "\n",
      "### Operational Risks\n",
      "- **Operational Factors (Lyft-specific)**: Lyft's challenges include its limited operating history, unpredictable financial performance, intense competition, uncertainty in the ridesharing market growth, issues with driver and rider retention, adequacy of insurance coverage, development of autonomous vehicle technology, reputation management, illegal or improper user activities, accuracy of background checks, pricing changes, network and vehicle quality, growth management, security or privacy breaches, reliance on third parties, and operations of specific programs like Express Drive and Lyft Rentals.\n",
      "\n",
      "### Cybersecurity Risks\n",
      "- **Cybersecurity (Uber-specific)**: Uber is vulnerable to cyberattacks such as malware, ransomware, viruses, spamming, and phishing. These attacks could disrupt Uber's systems, compromise sensitive information, result in intellectual property theft, and require significant resources to bolster technological defenses.\n",
      "\n",
      "### Regulatory and Legal Risks\n",
      "- **Regulatory and Legal Factors (Lyft-specific)**: Lyft faces risks related to driver classification, evolving laws and regulations, compliance with privacy and data protection laws, potential litigation, intellectual property disputes, tax collection challenges, and the effectiveness of internal controls.\n",
      "\n",
      "### Financing and Transactional Risks\n",
      "- **Financing and Transactional Risks (Lyft-specific)**: Lyft must manage future capital requirements, debt servicing, counterparty risks in transactions, integration of acquisitions, potential tax liabilities, and changes in tax regulations.\n",
      "\n",
      "### Compliance and Relationship Risks\n",
      "- **Compliance and Relationship Risk with Payment Networks (Uber-specific)**: Uber's failure to maintain compliance with payment card network standards or maintain favorable relationships with these networks could lead to increased operational costs, loss of credit card acceptance privileges, or adverse changes to the terms of service.\n",
      "\n",
      "### Governance and Ownership Risks\n",
      "- **Governance Risks and Ownership of Capital Stock (Lyft-specific)**: Lyft's governance structure includes provisions that may deter mergers or proxy contests, exclusive forum provisions, a dual class stock structure, potential stock price volatility, risks from substantial stock sales, dividend policy considerations, and the influence of analyst research.\n",
      "\n",
      "This summary encapsulates the diverse and significant risks that Lyft and Uber face, reflecting the complexities of operating within the global ridesharing and mobility markets. These risk factors are crucial for understanding the potential challenges that could impact the companies' operational and financial stability.\n",
      "=== Refined plan ===\n",
      "Finalize Risk Factors Summary:\n",
      "Here is the finalized comprehensive summary of key risk factors for Lyft and Uber based on their 2021 10-K filings:\n",
      "\n",
      "### Economic and Market Risks\n",
      "- **General Economic Factors**: Both Lyft and Uber are impacted by macroeconomic conditions such as the COVID-19 pandemic, natural disasters, economic downturns, public health crises, and political crises.\n",
      "- **Market Risk (Uber-specific)**: Uber faces interest rate risk associated with its refinanced term loan facilities, investment risk concerning liquidity and capital preservation, and foreign currency risk due to international transactions.\n",
      "\n",
      "### Operational Risks\n",
      "- **Operational Factors (Lyft-specific)**: Lyft's challenges include its limited operating history, unpredictable financial performance, intense competition, uncertainty in the ridesharing market growth, issues with driver and rider retention, adequacy of insurance coverage, development of autonomous vehicle technology, reputation management, illegal or improper user activities, accuracy of background checks, pricing changes, network and vehicle quality, growth management, security or privacy breaches, reliance on third parties, and operations of specific programs like Express Drive and Lyft Rentals.\n",
      "\n",
      "### Cybersecurity Risks\n",
      "- **Cybersecurity (Uber-specific)**: Uber is vulnerable to cyberattacks such as malware, ransomware, viruses, spamming, and phishing. These attacks could disrupt Uber's systems, compromise sensitive information, result in intellectual property theft, and require significant resources to bolster technological defenses.\n",
      "\n",
      "### Regulatory and Legal Risks\n",
      "- **Regulatory and Legal Factors (Lyft-specific)**: Lyft faces risks related to driver classification, evolving laws and regulations, compliance with privacy and data protection laws, potential litigation, intellectual property disputes, tax collection challenges, and the effectiveness of internal controls.\n",
      "\n",
      "### Financing and Transactional Risks\n",
      "- **Financing and Transactional Risks (Lyft-specific)**: Lyft must manage future capital requirements, debt servicing, counterparty risks in transactions, integration of acquisitions, potential tax liabilities, and changes in tax regulations.\n",
      "\n",
      "### Compliance and Relationship Risks\n",
      "- **Compliance and Relationship Risk with Payment Networks (Uber-specific)**: Uber's failure to maintain compliance with payment card network standards or maintain favorable relationships with these networks could lead to increased operational costs, loss of credit card acceptance privileges, or adverse changes to the terms of service.\n",
      "\n",
      "### Governance and Ownership Risks\n",
      "- **Governance Risks and Ownership of Capital Stock (Lyft-specific)**: Lyft's governance structure includes provisions that may deter mergers or proxy contests, exclusive forum provisions, a dual class stock structure, potential stock price volatility, risks from substantial stock sales, dividend policy considerations, and the influence of analyst research.\n",
      "\n",
      "This summary encapsulates the diverse and significant risks that Lyft and Uber face, reflecting the complexities of operating within the global ridesharing and mobility markets. These risk factors are crucial for understanding the potential challenges that could impact the companies' operational and financial stability. -> The summary of key risk factors for Lyft and Uber based on their 2021 10-K filings is complete and comprehensive, covering all major areas of concern for both companies.\n",
      "deps: []\n",
      "\n",
      "\n"
     ]
    }
   ],
   "source": [
    "response = agent.chat(\n",
    "    \"Summarize the key risk factors for Lyft and Uber in their 2021 10-K filings.\"\n",
    ")"
   ]
  },
  {
   "cell_type": "code",
   "execution_count": 15,
   "metadata": {},
   "outputs": [
    {
     "name": "stdout",
     "output_type": "stream",
     "text": [
      "Here is the finalized comprehensive summary of key risk factors for Lyft and Uber based on their 2021 10-K filings:\n",
      "\n",
      "### Economic and Market Risks\n",
      "- **General Economic Factors**: Both Lyft and Uber are impacted by macroeconomic conditions such as the COVID-19 pandemic, natural disasters, economic downturns, public health crises, and political crises.\n",
      "- **Market Risk (Uber-specific)**: Uber faces interest rate risk associated with its refinanced term loan facilities, investment risk concerning liquidity and capital preservation, and foreign currency risk due to international transactions.\n",
      "\n",
      "### Operational Risks\n",
      "- **Operational Factors (Lyft-specific)**: Lyft's challenges include its limited operating history, unpredictable financial performance, intense competition, uncertainty in the ridesharing market growth, issues with driver and rider retention, adequacy of insurance coverage, development of autonomous vehicle technology, reputation management, illegal or improper user activities, accuracy of background checks, pricing changes, network and vehicle quality, growth management, security or privacy breaches, reliance on third parties, and operations of specific programs like Express Drive and Lyft Rentals.\n",
      "\n",
      "### Cybersecurity Risks\n",
      "- **Cybersecurity (Uber-specific)**: Uber is vulnerable to cyberattacks such as malware, ransomware, viruses, spamming, and phishing. These attacks could disrupt Uber's systems, compromise sensitive information, result in intellectual property theft, and require significant resources to bolster technological defenses.\n",
      "\n",
      "### Regulatory and Legal Risks\n",
      "- **Regulatory and Legal Factors (Lyft-specific)**: Lyft faces risks related to driver classification, evolving laws and regulations, compliance with privacy and data protection laws, potential litigation, intellectual property disputes, tax collection challenges, and the effectiveness of internal controls.\n",
      "\n",
      "### Financing and Transactional Risks\n",
      "- **Financing and Transactional Risks (Lyft-specific)**: Lyft must manage future capital requirements, debt servicing, counterparty risks in transactions, integration of acquisitions, potential tax liabilities, and changes in tax regulations.\n",
      "\n",
      "### Compliance and Relationship Risks\n",
      "- **Compliance and Relationship Risk with Payment Networks (Uber-specific)**: Uber's failure to maintain compliance with payment card network standards or maintain favorable relationships with these networks could lead to increased operational costs, loss of credit card acceptance privileges, or adverse changes to the terms of service.\n",
      "\n",
      "### Governance and Ownership Risks\n",
      "- **Governance Risks and Ownership of Capital Stock (Lyft-specific)**: Lyft's governance structure includes provisions that may deter mergers or proxy contests, exclusive forum provisions, a dual class stock structure, potential stock price volatility, risks from substantial stock sales, dividend policy considerations, and the influence of analyst research.\n",
      "\n",
      "This summary encapsulates the diverse and significant risks that Lyft and Uber face, reflecting the complexities of operating within the global ridesharing and mobility markets. These risk factors are crucial for understanding the potential challenges that could impact the companies' operational and financial stability.\n"
     ]
    }
   ],
   "source": [
    "print(str(response))"
   ]
  },
  {
   "cell_type": "code",
   "execution_count": 28,
   "metadata": {},
   "outputs": [],
   "source": [
    "@kitchen.chat.handler(\"agent.structured_planning_10k_filings\")\n",
    "async def agent_structured_planning(chat: ChatInput) -> ChatResponse:\n",
    "    \"\"\"RAG-enabled chat handler\"\"\"\n",
    "    # Get the user's question\n",
    "    question = chat.messages[-1].content\n",
    "\n",
    "    response = await agent.achat(\n",
    "        question\n",
    "    )\n",
    "        \n",
    "    # Return response with sources\n",
    "    return ChatResponse(\n",
    "        content=response,\n",
    "    )"
   ]
  },
  {
   "cell_type": "markdown",
   "metadata": {},
   "source": [
    "## Changing Prompts\n",
    "\n",
    "The `StructuredPlanningAgent` has two key prompts:\n",
    "1. The initial planning prompt\n",
    "2. The plan refinement prompt\n",
    "\n",
    "Below, we show how to configure these prompts, using the defaults as an example."
   ]
  },
  {
   "cell_type": "code",
   "execution_count": 29,
   "metadata": {},
   "outputs": [],
   "source": [
    "DEFAULT_INITIAL_PLAN_PROMPT = \"\"\"\\\n",
    "Think step-by-step. Given a task and a set of tools, create a comprehesive, end-to-end plan to accomplish the task.\n",
    "Keep in mind not every task needs to be decomposed into multiple sub-tasks if it is simple enough.\n",
    "The plan should end with a sub-task that satisfies the overall task.\n",
    "\n",
    "The tools available are:\n",
    "{tools_str}\n",
    "\n",
    "Overall Task: {task}\n",
    "\"\"\"\n",
    "\n",
    "DEFAULT_PLAN_REFINE_PROMPT = \"\"\"\\\n",
    "Think step-by-step. Given an overall task, a set of tools, and completed sub-tasks, update (if needed) the remaining sub-tasks so that the overall task can still be completed.\n",
    "The plan should end with a sub-task that satisfies the overall task.\n",
    "If the remaining sub-tasks are sufficient, you can skip this step.\n",
    "\n",
    "The tools available are:\n",
    "{tools_str}\n",
    "\n",
    "Overall Task:\n",
    "{task}\n",
    "\n",
    "Completed Sub-Tasks + Outputs:\n",
    "{completed_outputs}\n",
    "\n",
    "Remaining Sub-Tasks:\n",
    "{remaining_sub_tasks}\n",
    "\"\"\""
   ]
  },
  {
   "cell_type": "code",
   "execution_count": 30,
   "metadata": {},
   "outputs": [],
   "source": [
    "agent_with_prompts = StructuredPlannerAgent(\n",
    "    worker,\n",
    "    tools=[lyft_tool, uber_tool],\n",
    "    initial_plan_prompt=DEFAULT_INITIAL_PLAN_PROMPT,\n",
    "    plan_refine_prompt=DEFAULT_PLAN_REFINE_PROMPT,\n",
    "    verbose=True,\n",
    ")"
   ]
  },
  {
   "cell_type": "code",
   "execution_count": 31,
   "metadata": {},
   "outputs": [],
   "source": [
    "@kitchen.chat.handler(\"agent.prompts\")\n",
    "async def prompt_handler(chat: ChatInput) -> ChatResponse:\n",
    "    # Get the user's question\n",
    "    question = chat.messages[-1].content\n",
    "\n",
    "    response = await agent_with_prompts.achat(\n",
    "        question\n",
    "    )\n",
    "        \n",
    "    # Return response with sources\n",
    "    return ChatResponse(\n",
    "        content=response,\n",
    "    )"
   ]
  },
  {
   "cell_type": "code",
   "execution_count": 32,
   "metadata": {},
   "outputs": [
    {
     "name": "stdout",
     "output_type": "stream",
     "text": [
      "Shutting down existing Whisk server...\n",
      "Whisk server stopped.\n",
      "Whisk server started on http://0.0.0.0:8000 (in background)\n"
     ]
    },
    {
     "name": "stderr",
     "output_type": "stream",
     "text": [
      "INFO:     Started server process [6117]\n",
      "INFO:     Waiting for application startup.\n",
      "INFO:     Application startup complete.\n",
      "INFO:     Uvicorn running on http://0.0.0.0:8000 (Press CTRL+C to quit)\n"
     ]
    },
    {
     "name": "stdout",
     "output_type": "stream",
     "text": [
      "INFO:     127.0.0.1:38054 - \"GET /v1/models HTTP/1.1\" 200 OK\n"
     ]
    }
   ],
   "source": [
    "from whisk.config import WhiskConfig, ServerConfig\n",
    "from whisk.router import WhiskRouter\n",
    "\n",
    "# Configure and create router\n",
    "config = WhiskConfig(server=ServerConfig(type=\"fastapi\"))\n",
    "router = WhiskRouter(kitchen_app=kitchen, config=config)\n",
    "\n",
    "# Run the server\n",
    "\n",
    "router.run_in_notebook(host=\"0.0.0.0\", port=8000)"
   ]
  },
  {
   "cell_type": "markdown",
   "metadata": {},
   "source": [
    "## Low-level API [Advanced] \n",
    "\n",
    "In this section, we use the same agent, but expose the lower-level steps that are happening under the hood.\n",
    "\n",
    "This is useful for when you want to expose the underlying plan, tasks, etc. to a human to modify them on the fly, or for debugging and running things step-by-step."
   ]
  },
  {
   "cell_type": "markdown",
   "metadata": {},
   "source": [
    "### Create the Agent"
   ]
  },
  {
   "cell_type": "code",
   "execution_count": 20,
   "metadata": {},
   "outputs": [],
   "source": [
    "from llama_index.core.agent import (\n",
    "    StructuredPlannerAgent,\n",
    "    FunctionCallingAgentWorker,\n",
    "    ReActAgentWorker,\n",
    ")\n",
    "\n",
    "# create the react worker for reasoning\n",
    "worker = FunctionCallingAgentWorker.from_tools(\n",
    "    [lyft_tool, uber_tool], verbose=True\n",
    ")\n",
    "\n",
    "# wrap the worker in the top-level planner\n",
    "agent_low_level = StructuredPlannerAgent(\n",
    "    worker, tools=[lyft_tool, uber_tool], verbose=True\n",
    ")"
   ]
  },
  {
   "cell_type": "markdown",
   "metadata": {},
   "source": [
    "### Create the initial tasks and plan"
   ]
  },
  {
   "cell_type": "code",
   "execution_count": 21,
   "metadata": {},
   "outputs": [
    {
     "name": "stdout",
     "output_type": "stream",
     "text": [
      "=== Initial plan ===\n",
      "Extract Lyft Risk Factors:\n",
      "What are the key risk factors listed in Lyft's 2021 10-K filing? -> A detailed list of key risk factors for Lyft from their 2021 10-K filing.\n",
      "deps: []\n",
      "\n",
      "\n",
      "Extract Uber Risk Factors:\n",
      "What are the key risk factors listed in Uber's 2021 10-K filing? -> A detailed list of key risk factors for Uber from their 2021 10-K filing.\n",
      "deps: []\n",
      "\n",
      "\n",
      "Summarize Risk Factors:\n",
      "Summarize the key risk factors for Lyft and Uber in their 2021 10-K filings using the detailed lists obtained from the previous steps. -> A concise summary of the key risk factors for both Lyft and Uber based on their 2021 10-K filings.\n",
      "deps: ['Extract Lyft Risk Factors', 'Extract Uber Risk Factors']\n",
      "\n",
      "\n"
     ]
    }
   ],
   "source": [
    "plan_id = agent_low_level.create_plan(\n",
    "    \"Summarize the key risk factors for Lyft and Uber in their 2021 10-K filings.\"\n",
    ")"
   ]
  },
  {
   "cell_type": "code",
   "execution_count": 22,
   "metadata": {},
   "outputs": [],
   "source": [
    "@kitchen.chat.handler(\"agent.create_plan\")\n",
    "async def rag_handler(chat: ChatInput) -> ChatResponse:\n",
    "    \"\"\"RAG-enabled chat handler\"\"\"\n",
    "    # Get the user's question\n",
    "    question = chat.messages[-1].content\n",
    "    plan_id = await agent_low_level.acreate_plan(\n",
    "        question\n",
    "    )\n",
    "        \n",
    "    # Return response with sources\n",
    "    return ChatResponse(\n",
    "        content=plan_id,\n",
    "    )"
   ]
  },
  {
   "cell_type": "markdown",
   "metadata": {},
   "source": [
    "### Inspect the initial tasks and plan"
   ]
  },
  {
   "cell_type": "code",
   "execution_count": 23,
   "metadata": {},
   "outputs": [
    {
     "name": "stdout",
     "output_type": "stream",
     "text": [
      "===== Sub Task Extract Lyft Risk Factors =====\n",
      "Expected output:  A detailed list of key risk factors for Lyft from their 2021 10-K filing.\n",
      "Dependencies:  []\n",
      "===== Sub Task Extract Uber Risk Factors =====\n",
      "Expected output:  A detailed list of key risk factors for Uber from their 2021 10-K filing.\n",
      "Dependencies:  []\n",
      "===== Sub Task Summarize Risk Factors =====\n",
      "Expected output:  A concise summary of the key risk factors for both Lyft and Uber based on their 2021 10-K filings.\n",
      "Dependencies:  ['Extract Lyft Risk Factors', 'Extract Uber Risk Factors']\n"
     ]
    }
   ],
   "source": [
    "plan = agent.state.plan_dict[plan_id]\n",
    "\n",
    "for sub_task in plan.sub_tasks:\n",
    "    print(f\"===== Sub Task {sub_task.name} =====\")\n",
    "    print(\"Expected output: \", sub_task.expected_output)\n",
    "    print(\"Dependencies: \", sub_task.dependencies)"
   ]
  },
  {
   "cell_type": "markdown",
   "metadata": {},
   "source": [
    "### Execute the first set of tasks\n",
    "\n",
    "Here, we execute the first set of tasks with their dependencies met."
   ]
  },
  {
   "cell_type": "code",
   "execution_count": null,
   "metadata": {},
   "outputs": [
    {
     "name": "stdout",
     "output_type": "stream",
     "text": [
      "===== Sub Task Extract Lyft Risk Factors =====\n",
      "Expected output:  A detailed list of key risk factors for Lyft from its 2021 10-K filing.\n",
      "Dependencies:  []\n",
      "===== Sub Task Extract Uber Risk Factors =====\n",
      "Expected output:  A detailed list of key risk factors for Uber from its 2021 10-K filing.\n",
      "Dependencies:  []\n",
      "> Running step 4f708bcd-3078-4138-897b-e7f643fc7f35. Step input: Extract the key risk factors from Lyft's 2021 10-K filing.\n",
      "Added user message to memory: Extract the key risk factors from Lyft's 2021 10-K filing.\n",
      "=== Calling Function ===\n",
      "Calling function: lyft_2021 with args: {\"input\": \"key risk factors\"}\n",
      "=== Function Output ===\n",
      "Key risk factors for Lyft include general economic factors such as the impact of the COVID-19 pandemic, natural disasters, and macroeconomic conditions; operational factors such as limited operating history, competition, unpredictability of results, and the ability to attract and retain drivers and riders; and specific risks related to technology, such as autonomous vehicle development, security breaches, and reliance on third-party service providers. Additionally, risks related to insurance coverage, the adequacy of insurance reserves, and the handling of auto-related insurance claims by third parties are significant. The company also faces risks from potential illegal activities by users, inaccuracies in background checks, and challenges related to managing growth and expanding service offerings.\n",
      "> Running step 060f219a-0668-47ec-9bef-ce131d0ba887. Step input: None\n",
      "=== LLM Response ===\n",
      "The key risk factors identified in Lyft's 2021 10-K filing include:\n",
      "\n",
      "1. **General Economic Factors:**\n",
      "   - Impact of the COVID-19 pandemic.\n",
      "   - Natural disasters.\n",
      "   - Macroeconomic conditions.\n",
      "\n",
      "2. **Operational Factors:**\n",
      "   - Limited operating history.\n",
      "   - Competition.\n",
      "   - Unpredictability of results.\n",
      "   - Ability to attract and retain drivers and riders.\n",
      "\n",
      "3. **Technology-Related Risks:**\n",
      "   - Autonomous vehicle development.\n",
      "   - Security breaches.\n",
      "   - Reliance on third-party service providers.\n",
      "\n",
      "4. **Insurance-Related Risks:**\n",
      "   - Insurance coverage adequacy.\n",
      "   - Insurance reserves adequacy.\n",
      "   - Handling of auto-related insurance claims by third parties.\n",
      "\n",
      "5. **Other Risks:**\n",
      "   - Potential illegal activities by users.\n",
      "   - Inaccuracies in background checks.\n",
      "   - Challenges related to managing growth and expanding service offerings.\n",
      "> Running step 00f6732b-594c-4ecf-82e5-e9f005f8ab71. Step input: Extract the key risk factors from Uber's 2021 10-K filing.\n",
      "Added user message to memory: Extract the key risk factors from Uber's 2021 10-K filing.\n",
      "=== Calling Function ===\n",
      "Calling function: uber_2021 with args: {\"input\": \"key risk factors\"}\n",
      "=== Function Output ===\n",
      "The key risk factors include market risks such as interest rate risk, investment risk, and foreign currency risk. Interest rate risk is associated with fluctuations in interest rates affecting the company's refinanced term loan facilities and fixed rate notes. Investment risk involves the preservation of capital and meeting liquidity requirements without significantly increasing risk, with exposure to changes in interest rates and the carrying amounts of investments in other companies. Foreign currency risk arises from international transactions in multiple currencies, which could affect revenue and operating results due to fluctuations in exchange rates. Additionally, there are risks related to cyberattacks, which could harm the company's reputation, business, and operating results by compromising data security and the integrity of information technology systems.\n",
      "> Running step 04e95d17-e7a7-4f35-8519-33e9439e9659. Step input: None\n",
      "=== LLM Response ===\n",
      "The key risk factors identified in Uber's 2021 10-K filing include:\n",
      "\n",
      "1. **Market Risks:**\n",
      "   - **Interest Rate Risk:** Fluctuations in interest rates affecting the company's refinanced term loan facilities and fixed rate notes.\n",
      "   - **Investment Risk:** Challenges in preserving capital and meeting liquidity requirements without significantly increasing risk, with exposure to changes in interest rates and the carrying amounts of investments in other companies.\n",
      "   - **Foreign Currency Risk:** Risks from international transactions in multiple currencies, which could affect revenue and operating results due to fluctuations in exchange rates.\n",
      "\n",
      "2. **Cybersecurity Risks:**\n",
      "   - Risks related to cyberattacks, which could harm the company's reputation, business, and operating results by compromising data security and the integrity of information technology systems.\n"
     ]
    }
   ],
   "source": [
    "next_tasks = agent.state.get_next_sub_tasks(plan_id)\n",
    "\n",
    "for sub_task in next_tasks:\n",
    "    print(f\"===== Sub Task {sub_task.name} =====\")\n",
    "    print(\"Expected output: \", sub_task.expected_output)\n",
    "    print(\"Dependencies: \", sub_task.dependencies)\n",
    "\n",
    "\n",
    "for sub_task in next_tasks:\n",
    "    response = agent.run_task(sub_task.name)\n",
    "    agent.mark_task_complete(plan_id, sub_task.name)"
   ]
  },
  {
   "cell_type": "markdown",
   "metadata": {},
   "source": [
    "If we wanted to, we could even execute each task in a step-wise fashion. It would look something like this:\n",
    "\n",
    "```python\n",
    "# Step-wise execution per task\n",
    "\n",
    "for sub_task in next_tasks:\n",
    "    # get the task from the state \n",
    "    task = agent.state.get_task(sub_task.name)\n",
    "\n",
    "    # run intial resoning step\n",
    "    step_output = agent.run_step(task.task_id)\n",
    "\n",
    "    # loop until the last step is reached\n",
    "    while not step_output.is_last:\n",
    "        step_output = agent.run_step(task.task_id)\n",
    "    \n",
    "    # finalize the response and commit to memory\n",
    "    agent.finalize_response(task.task_id, step_output=step_output)\n",
    "```"
   ]
  },
  {
   "cell_type": "markdown",
   "metadata": {},
   "source": [
    "### Check if we are done\n",
    "\n",
    "If there are no remaining tasks, then we can stop. Otherwise, we can refine the current plan and continue"
   ]
  },
  {
   "cell_type": "code",
   "execution_count": null,
   "metadata": {},
   "outputs": [
    {
     "name": "stdout",
     "output_type": "stream",
     "text": [
      "1\n"
     ]
    }
   ],
   "source": [
    "next_tasks = agent.get_next_tasks(plan_id)\n",
    "print(len(next_tasks))"
   ]
  },
  {
   "cell_type": "code",
   "execution_count": null,
   "metadata": {},
   "outputs": [
    {
     "name": "stdout",
     "output_type": "stream",
     "text": [
      "===== Sub Task Summarize Risk Factors =====\n"
     ]
    }
   ],
   "source": [
    "for sub_task in next_tasks:\n",
    "    print(f\"===== Sub Task {sub_task} =====\")"
   ]
  },
  {
   "cell_type": "markdown",
   "metadata": {},
   "source": [
    "### Refine the plan\n",
    "\n",
    "Since we have tasks remaining, lets refine our plan to make sure we are on track."
   ]
  },
  {
   "cell_type": "code",
   "execution_count": null,
   "metadata": {},
   "outputs": [
    {
     "name": "stdout",
     "output_type": "stream",
     "text": [
      "=== Refined plan ===\n",
      "Summarize Risk Factors:\n",
      "Summarize the key risk factors for both Lyft and Uber based on the extracted information from their 2021 10-K filings. -> A comprehensive summary of the key risk factors for Lyft and Uber from their 2021 10-K filings.\n",
      "deps: ['Extract Lyft Risk Factors', 'Extract Uber Risk Factors']\n",
      "\n",
      "\n"
     ]
    }
   ],
   "source": [
    "# refine the plan\n",
    "agent.refine_plan(\n",
    "    \"Summarize the key risk factors for Lyft and Uber in their 2021 10-K filings.\",\n",
    "    plan_id,\n",
    ")"
   ]
  },
  {
   "cell_type": "code",
   "execution_count": null,
   "metadata": {},
   "outputs": [
    {
     "name": "stdout",
     "output_type": "stream",
     "text": [
      "===== Sub Task Summarize Risk Factors =====\n",
      "Expected output:  A comprehensive summary of the key risk factors for Lyft and Uber from their 2021 10-K filings.\n",
      "Dependencies:  ['Extract Lyft Risk Factors', 'Extract Uber Risk Factors']\n"
     ]
    }
   ],
   "source": [
    "plan = agent.state.plan_dict[plan_id]\n",
    "\n",
    "for sub_task in plan.sub_tasks:\n",
    "    print(f\"===== Sub Task {sub_task.name} =====\")\n",
    "    print(\"Expected output: \", sub_task.expected_output)\n",
    "    print(\"Dependencies: \", sub_task.dependencies)"
   ]
  },
  {
   "cell_type": "markdown",
   "metadata": {},
   "source": [
    "### Loop until done\n",
    "\n",
    "With our plan refined, we can repeat this process until we have no more tasks to run."
   ]
  },
  {
   "cell_type": "code",
   "execution_count": null,
   "metadata": {},
   "outputs": [
    {
     "name": "stdout",
     "output_type": "stream",
     "text": [
      "> Running step 70356e9a-98ee-49f5-b15f-e5a6b43381d0. Step input: Summarize the key risk factors for both Lyft and Uber based on the extracted information from their 2021 10-K filings.\n",
      "Added user message to memory: Summarize the key risk factors for both Lyft and Uber based on the extracted information from their 2021 10-K filings.\n",
      "=== LLM Response ===\n",
      "The key risk factors for Lyft and Uber from their 2021 10-K filings highlight several areas of concern for both companies, with some overlapping and unique challenges:\n",
      "\n",
      "### Common Risk Factors:\n",
      "- **Economic and Market Conditions:** Both companies are affected by general economic factors such as macroeconomic conditions and the impact of the COVID-19 pandemic. Additionally, Uber faces specific market risks like interest rate risk, investment risk, and foreign currency risk due to its global operations.\n",
      "\n",
      "### Lyft-Specific Risk Factors:\n",
      "- **Operational Challenges:** Lyft faces risks related to its limited operating history, competition, unpredictability of results, and the ability to attract and retain drivers and riders.\n",
      "- **Technology and Insurance Risks:** Challenges include autonomous vehicle development, security breaches, reliance on third-party service providers, insurance coverage adequacy, and handling of auto-related insurance claims by third parties.\n",
      "- **Regulatory and Legal Risks:** Potential illegal activities by users, inaccuracies in background checks, and challenges related to managing growth and expanding service offerings.\n",
      "\n",
      "### Uber-Specific Risk Factors:\n",
      "- **Cybersecurity Risks:** Uber is particularly concerned with risks related to cyberattacks that could compromise data security and the integrity of its information technology systems.\n",
      "\n",
      "Both companies operate in dynamic and rapidly evolving environments, facing significant operational and market challenges that could impact their business operations and financial stability.\n",
      "=== Refined plan ===\n",
      "Extract Lyft Risk Factors:\n",
      "Extract the key risk factors from Lyft's 2021 10-K filing. -> The key risk factors identified in Lyft's 2021 10-K filing include general economic factors, operational factors, technology-related risks, insurance-related risks, and other risks.\n",
      "deps: []\n",
      "\n",
      "\n",
      "Extract Uber Risk Factors:\n",
      "Extract the key risk factors from Uber's 2021 10-K filing. -> The key risk factors identified in Uber's 2021 10-K filing include market risks, cybersecurity risks, and other specific operational and financial risks.\n",
      "deps: []\n",
      "\n",
      "\n",
      "Summarize Risk Factors:\n",
      "Summarize the key risk factors for Lyft and Uber from their 2021 10-K filings. -> A summary of the key risk factors for Lyft and Uber, highlighting common and unique challenges, including economic, operational, technology, insurance, and cybersecurity risks.\n",
      "deps: ['Extract Lyft Risk Factors', 'Extract Uber Risk Factors']\n",
      "\n",
      "\n"
     ]
    }
   ],
   "source": [
    "import asyncio\n",
    "\n",
    "while True:\n",
    "    # are we done?\n",
    "    next_tasks = agent.get_next_tasks(plan_id)\n",
    "    if len(next_tasks) == 0:\n",
    "        break\n",
    "\n",
    "    # run concurrently for better performance\n",
    "    responses = await asyncio.gather(\n",
    "        *[agent.arun_task(task_id) for task_id in next_tasks]\n",
    "    )\n",
    "    for task_id in next_tasks:\n",
    "        agent.mark_task_complete(plan_id, task_id)\n",
    "\n",
    "    # refine the plan\n",
    "    await agent.arefine_plan(\n",
    "        \"Summarize the key risk factors for Lyft and Uber in their 2021 10-K filings.\",\n",
    "        plan_id,\n",
    "    )"
   ]
  },
  {
   "cell_type": "markdown",
   "metadata": {},
   "source": [
    "By the end, we should have a single response, which is our final response"
   ]
  },
  {
   "cell_type": "code",
   "execution_count": null,
   "metadata": {},
   "outputs": [
    {
     "name": "stdout",
     "output_type": "stream",
     "text": [
      "assistant: The key risk factors for Lyft and Uber from their 2021 10-K filings highlight several areas of concern for both companies, with some overlapping and unique challenges:\n",
      "\n",
      "### Common Risk Factors:\n",
      "- **Economic and Market Conditions:** Both companies are affected by general economic factors such as macroeconomic conditions and the impact of the COVID-19 pandemic. Additionally, Uber faces specific market risks like interest rate risk, investment risk, and foreign currency risk due to its global operations.\n",
      "\n",
      "### Lyft-Specific Risk Factors:\n",
      "- **Operational Challenges:** Lyft faces risks related to its limited operating history, competition, unpredictability of results, and the ability to attract and retain drivers and riders.\n",
      "- **Technology and Insurance Risks:** Challenges include autonomous vehicle development, security breaches, reliance on third-party service providers, insurance coverage adequacy, and handling of auto-related insurance claims by third parties.\n",
      "- **Regulatory and Legal Risks:** Potential illegal activities by users, inaccuracies in background checks, and challenges related to managing growth and expanding service offerings.\n",
      "\n",
      "### Uber-Specific Risk Factors:\n",
      "- **Cybersecurity Risks:** Uber is particularly concerned with risks related to cyberattacks that could compromise data security and the integrity of its information technology systems.\n",
      "\n",
      "Both companies operate in dynamic and rapidly evolving environments, facing significant operational and market challenges that could impact their business operations and financial stability.\n"
     ]
    }
   ],
   "source": [
    "print(str(responses[-1]))"
   ]
  }
 ],
 "metadata": {
  "kernelspec": {
   "display_name": "Python 3",
   "language": "python",
   "name": "python3"
  },
  "language_info": {
   "codemirror_mode": {
    "name": "ipython",
    "version": 3
   },
   "file_extension": ".py",
   "mimetype": "text/x-python",
   "name": "python",
   "nbconvert_exporter": "python",
   "pygments_lexer": "ipython3",
   "version": "3.11.11"
  }
 },
 "nbformat": 4,
 "nbformat_minor": 2
}
